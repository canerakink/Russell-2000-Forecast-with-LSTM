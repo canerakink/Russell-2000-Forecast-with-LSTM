{
  "nbformat": 4,
  "nbformat_minor": 0,
  "metadata": {
    "colab": {
      "provenance": []
    },
    "kernelspec": {
      "name": "python3",
      "display_name": "Python 3"
    },
    "language_info": {
      "name": "python"
    }
  },
  "cells": [
    {
      "cell_type": "code",
      "execution_count": null,
      "metadata": {
        "id": "WIoXJKhHe6Ti"
      },
      "outputs": [],
      "source": [
        "import pandas as pd\n",
        "import numpy as np\n",
        "import matplotlib.pyplot as plt\n",
        "from sklearn.preprocessing import MinMaxScaler, StandardScaler\n",
        "from scipy import stats\n",
        "%matplotlib inline\n",
        "import tensorflow as tf\n",
        "from tensorflow import keras\n",
        "from tensorflow.keras import Sequential, layers, callbacks\n",
        "from tensorflow.keras.layers import Dense, LSTM, Dropout, GRU, Bidirectional"
      ]
    },
    {
      "cell_type": "code",
      "source": [
        "df = pd.read_excel('rut.xlsx')\n",
        "df.index = pd.to_datetime(df['Date'])\n",
        "df"
      ],
      "metadata": {
        "colab": {
          "base_uri": "https://localhost:8080/",
          "height": 455
        },
        "id": "Vm4QiHtVfDUX",
        "outputId": "72e3b12a-91f4-470f-cf75-02524f491ba2"
      },
      "execution_count": null,
      "outputs": [
        {
          "output_type": "execute_result",
          "data": {
            "text/plain": [
              "            Unnamed: 0       Date         Open         High          Low  \\\n",
              "Date                                                                       \n",
              "2017-01-06           0 2017-01-06  1372.489990  1375.060059  1366.819946   \n",
              "2017-01-09           1 2017-01-09  1367.130005  1367.130005  1356.540039   \n",
              "2017-01-10           2 2017-01-10  1357.739990  1371.500000  1357.739990   \n",
              "2017-01-11           3 2017-01-11  1370.890015  1375.540039  1365.140015   \n",
              "2017-01-12           4 2017-01-12  1372.839966  1372.839966  1346.810059   \n",
              "...                ...        ...          ...          ...          ...   \n",
              "2021-12-27        1251 2021-12-27  2242.479980  2261.889893  2230.330078   \n",
              "2021-12-28        1252 2021-12-28  2261.040039  2274.540039  2245.570068   \n",
              "2021-12-29        1253 2021-12-29  2246.350098  2252.790039  2236.649902   \n",
              "2021-12-30        1254 2021-12-30  2249.350098  2271.820068  2247.469971   \n",
              "2021-12-31        1255 2021-12-31  2245.929932  2258.110107  2244.850098   \n",
              "\n",
              "                  Close    Adj Close      Volume    Return  segment  \\\n",
              "Date                                                                  \n",
              "2017-01-06  1367.280029  1367.280029  3339890000  0.001311        0   \n",
              "2017-01-09  1357.489990  1357.489990  3217610000 -0.021946        2   \n",
              "2017-01-10  1370.900024  1370.900024  3638790000 -0.000758        0   \n",
              "2017-01-11  1373.300049  1373.300049  3620410000  0.004403        0   \n",
              "2017-01-12  1361.069946  1361.069946  3462130000  0.002637        0   \n",
              "...                 ...          ...         ...       ...      ...   \n",
              "2021-12-27  2261.459961  2261.459961  2264120000  0.026560        3   \n",
              "2021-12-28  2246.510010  2246.510010  2217050000  0.011076        3   \n",
              "2021-12-29  2249.239990  2249.239990  2369370000  0.003417        0   \n",
              "2021-12-30  2248.790039  2248.790039  2390990000 -0.005603        0   \n",
              "2021-12-31  2245.310059  2245.310059  2446190000 -0.000534        0   \n",
              "\n",
              "                  Labels  \n",
              "Date                      \n",
              "2017-01-06         Sabit  \n",
              "2017-01-09  Azalan Trend  \n",
              "2017-01-10         Sabit  \n",
              "2017-01-11         Sabit  \n",
              "2017-01-12         Sabit  \n",
              "...                  ...  \n",
              "2021-12-27   Artan Trend  \n",
              "2021-12-28   Artan Trend  \n",
              "2021-12-29         Sabit  \n",
              "2021-12-30         Sabit  \n",
              "2021-12-31         Sabit  \n",
              "\n",
              "[1256 rows x 11 columns]"
            ],
            "text/html": [
              "\n",
              "  <div id=\"df-8d2509d9-3a30-4551-b493-ad06bc116a63\">\n",
              "    <div class=\"colab-df-container\">\n",
              "      <div>\n",
              "<style scoped>\n",
              "    .dataframe tbody tr th:only-of-type {\n",
              "        vertical-align: middle;\n",
              "    }\n",
              "\n",
              "    .dataframe tbody tr th {\n",
              "        vertical-align: top;\n",
              "    }\n",
              "\n",
              "    .dataframe thead th {\n",
              "        text-align: right;\n",
              "    }\n",
              "</style>\n",
              "<table border=\"1\" class=\"dataframe\">\n",
              "  <thead>\n",
              "    <tr style=\"text-align: right;\">\n",
              "      <th></th>\n",
              "      <th>Unnamed: 0</th>\n",
              "      <th>Date</th>\n",
              "      <th>Open</th>\n",
              "      <th>High</th>\n",
              "      <th>Low</th>\n",
              "      <th>Close</th>\n",
              "      <th>Adj Close</th>\n",
              "      <th>Volume</th>\n",
              "      <th>Return</th>\n",
              "      <th>segment</th>\n",
              "      <th>Labels</th>\n",
              "    </tr>\n",
              "    <tr>\n",
              "      <th>Date</th>\n",
              "      <th></th>\n",
              "      <th></th>\n",
              "      <th></th>\n",
              "      <th></th>\n",
              "      <th></th>\n",
              "      <th></th>\n",
              "      <th></th>\n",
              "      <th></th>\n",
              "      <th></th>\n",
              "      <th></th>\n",
              "      <th></th>\n",
              "    </tr>\n",
              "  </thead>\n",
              "  <tbody>\n",
              "    <tr>\n",
              "      <th>2017-01-06</th>\n",
              "      <td>0</td>\n",
              "      <td>2017-01-06</td>\n",
              "      <td>1372.489990</td>\n",
              "      <td>1375.060059</td>\n",
              "      <td>1366.819946</td>\n",
              "      <td>1367.280029</td>\n",
              "      <td>1367.280029</td>\n",
              "      <td>3339890000</td>\n",
              "      <td>0.001311</td>\n",
              "      <td>0</td>\n",
              "      <td>Sabit</td>\n",
              "    </tr>\n",
              "    <tr>\n",
              "      <th>2017-01-09</th>\n",
              "      <td>1</td>\n",
              "      <td>2017-01-09</td>\n",
              "      <td>1367.130005</td>\n",
              "      <td>1367.130005</td>\n",
              "      <td>1356.540039</td>\n",
              "      <td>1357.489990</td>\n",
              "      <td>1357.489990</td>\n",
              "      <td>3217610000</td>\n",
              "      <td>-0.021946</td>\n",
              "      <td>2</td>\n",
              "      <td>Azalan Trend</td>\n",
              "    </tr>\n",
              "    <tr>\n",
              "      <th>2017-01-10</th>\n",
              "      <td>2</td>\n",
              "      <td>2017-01-10</td>\n",
              "      <td>1357.739990</td>\n",
              "      <td>1371.500000</td>\n",
              "      <td>1357.739990</td>\n",
              "      <td>1370.900024</td>\n",
              "      <td>1370.900024</td>\n",
              "      <td>3638790000</td>\n",
              "      <td>-0.000758</td>\n",
              "      <td>0</td>\n",
              "      <td>Sabit</td>\n",
              "    </tr>\n",
              "    <tr>\n",
              "      <th>2017-01-11</th>\n",
              "      <td>3</td>\n",
              "      <td>2017-01-11</td>\n",
              "      <td>1370.890015</td>\n",
              "      <td>1375.540039</td>\n",
              "      <td>1365.140015</td>\n",
              "      <td>1373.300049</td>\n",
              "      <td>1373.300049</td>\n",
              "      <td>3620410000</td>\n",
              "      <td>0.004403</td>\n",
              "      <td>0</td>\n",
              "      <td>Sabit</td>\n",
              "    </tr>\n",
              "    <tr>\n",
              "      <th>2017-01-12</th>\n",
              "      <td>4</td>\n",
              "      <td>2017-01-12</td>\n",
              "      <td>1372.839966</td>\n",
              "      <td>1372.839966</td>\n",
              "      <td>1346.810059</td>\n",
              "      <td>1361.069946</td>\n",
              "      <td>1361.069946</td>\n",
              "      <td>3462130000</td>\n",
              "      <td>0.002637</td>\n",
              "      <td>0</td>\n",
              "      <td>Sabit</td>\n",
              "    </tr>\n",
              "    <tr>\n",
              "      <th>...</th>\n",
              "      <td>...</td>\n",
              "      <td>...</td>\n",
              "      <td>...</td>\n",
              "      <td>...</td>\n",
              "      <td>...</td>\n",
              "      <td>...</td>\n",
              "      <td>...</td>\n",
              "      <td>...</td>\n",
              "      <td>...</td>\n",
              "      <td>...</td>\n",
              "      <td>...</td>\n",
              "    </tr>\n",
              "    <tr>\n",
              "      <th>2021-12-27</th>\n",
              "      <td>1251</td>\n",
              "      <td>2021-12-27</td>\n",
              "      <td>2242.479980</td>\n",
              "      <td>2261.889893</td>\n",
              "      <td>2230.330078</td>\n",
              "      <td>2261.459961</td>\n",
              "      <td>2261.459961</td>\n",
              "      <td>2264120000</td>\n",
              "      <td>0.026560</td>\n",
              "      <td>3</td>\n",
              "      <td>Artan Trend</td>\n",
              "    </tr>\n",
              "    <tr>\n",
              "      <th>2021-12-28</th>\n",
              "      <td>1252</td>\n",
              "      <td>2021-12-28</td>\n",
              "      <td>2261.040039</td>\n",
              "      <td>2274.540039</td>\n",
              "      <td>2245.570068</td>\n",
              "      <td>2246.510010</td>\n",
              "      <td>2246.510010</td>\n",
              "      <td>2217050000</td>\n",
              "      <td>0.011076</td>\n",
              "      <td>3</td>\n",
              "      <td>Artan Trend</td>\n",
              "    </tr>\n",
              "    <tr>\n",
              "      <th>2021-12-29</th>\n",
              "      <td>1253</td>\n",
              "      <td>2021-12-29</td>\n",
              "      <td>2246.350098</td>\n",
              "      <td>2252.790039</td>\n",
              "      <td>2236.649902</td>\n",
              "      <td>2249.239990</td>\n",
              "      <td>2249.239990</td>\n",
              "      <td>2369370000</td>\n",
              "      <td>0.003417</td>\n",
              "      <td>0</td>\n",
              "      <td>Sabit</td>\n",
              "    </tr>\n",
              "    <tr>\n",
              "      <th>2021-12-30</th>\n",
              "      <td>1254</td>\n",
              "      <td>2021-12-30</td>\n",
              "      <td>2249.350098</td>\n",
              "      <td>2271.820068</td>\n",
              "      <td>2247.469971</td>\n",
              "      <td>2248.790039</td>\n",
              "      <td>2248.790039</td>\n",
              "      <td>2390990000</td>\n",
              "      <td>-0.005603</td>\n",
              "      <td>0</td>\n",
              "      <td>Sabit</td>\n",
              "    </tr>\n",
              "    <tr>\n",
              "      <th>2021-12-31</th>\n",
              "      <td>1255</td>\n",
              "      <td>2021-12-31</td>\n",
              "      <td>2245.929932</td>\n",
              "      <td>2258.110107</td>\n",
              "      <td>2244.850098</td>\n",
              "      <td>2245.310059</td>\n",
              "      <td>2245.310059</td>\n",
              "      <td>2446190000</td>\n",
              "      <td>-0.000534</td>\n",
              "      <td>0</td>\n",
              "      <td>Sabit</td>\n",
              "    </tr>\n",
              "  </tbody>\n",
              "</table>\n",
              "<p>1256 rows × 11 columns</p>\n",
              "</div>\n",
              "      <button class=\"colab-df-convert\" onclick=\"convertToInteractive('df-8d2509d9-3a30-4551-b493-ad06bc116a63')\"\n",
              "              title=\"Convert this dataframe to an interactive table.\"\n",
              "              style=\"display:none;\">\n",
              "        \n",
              "  <svg xmlns=\"http://www.w3.org/2000/svg\" height=\"24px\"viewBox=\"0 0 24 24\"\n",
              "       width=\"24px\">\n",
              "    <path d=\"M0 0h24v24H0V0z\" fill=\"none\"/>\n",
              "    <path d=\"M18.56 5.44l.94 2.06.94-2.06 2.06-.94-2.06-.94-.94-2.06-.94 2.06-2.06.94zm-11 1L8.5 8.5l.94-2.06 2.06-.94-2.06-.94L8.5 2.5l-.94 2.06-2.06.94zm10 10l.94 2.06.94-2.06 2.06-.94-2.06-.94-.94-2.06-.94 2.06-2.06.94z\"/><path d=\"M17.41 7.96l-1.37-1.37c-.4-.4-.92-.59-1.43-.59-.52 0-1.04.2-1.43.59L10.3 9.45l-7.72 7.72c-.78.78-.78 2.05 0 2.83L4 21.41c.39.39.9.59 1.41.59.51 0 1.02-.2 1.41-.59l7.78-7.78 2.81-2.81c.8-.78.8-2.07 0-2.86zM5.41 20L4 18.59l7.72-7.72 1.47 1.35L5.41 20z\"/>\n",
              "  </svg>\n",
              "      </button>\n",
              "      \n",
              "  <style>\n",
              "    .colab-df-container {\n",
              "      display:flex;\n",
              "      flex-wrap:wrap;\n",
              "      gap: 12px;\n",
              "    }\n",
              "\n",
              "    .colab-df-convert {\n",
              "      background-color: #E8F0FE;\n",
              "      border: none;\n",
              "      border-radius: 50%;\n",
              "      cursor: pointer;\n",
              "      display: none;\n",
              "      fill: #1967D2;\n",
              "      height: 32px;\n",
              "      padding: 0 0 0 0;\n",
              "      width: 32px;\n",
              "    }\n",
              "\n",
              "    .colab-df-convert:hover {\n",
              "      background-color: #E2EBFA;\n",
              "      box-shadow: 0px 1px 2px rgba(60, 64, 67, 0.3), 0px 1px 3px 1px rgba(60, 64, 67, 0.15);\n",
              "      fill: #174EA6;\n",
              "    }\n",
              "\n",
              "    [theme=dark] .colab-df-convert {\n",
              "      background-color: #3B4455;\n",
              "      fill: #D2E3FC;\n",
              "    }\n",
              "\n",
              "    [theme=dark] .colab-df-convert:hover {\n",
              "      background-color: #434B5C;\n",
              "      box-shadow: 0px 1px 3px 1px rgba(0, 0, 0, 0.15);\n",
              "      filter: drop-shadow(0px 1px 2px rgba(0, 0, 0, 0.3));\n",
              "      fill: #FFFFFF;\n",
              "    }\n",
              "  </style>\n",
              "\n",
              "      <script>\n",
              "        const buttonEl =\n",
              "          document.querySelector('#df-8d2509d9-3a30-4551-b493-ad06bc116a63 button.colab-df-convert');\n",
              "        buttonEl.style.display =\n",
              "          google.colab.kernel.accessAllowed ? 'block' : 'none';\n",
              "\n",
              "        async function convertToInteractive(key) {\n",
              "          const element = document.querySelector('#df-8d2509d9-3a30-4551-b493-ad06bc116a63');\n",
              "          const dataTable =\n",
              "            await google.colab.kernel.invokeFunction('convertToInteractive',\n",
              "                                                     [key], {});\n",
              "          if (!dataTable) return;\n",
              "\n",
              "          const docLinkHtml = 'Like what you see? Visit the ' +\n",
              "            '<a target=\"_blank\" href=https://colab.research.google.com/notebooks/data_table.ipynb>data table notebook</a>'\n",
              "            + ' to learn more about interactive tables.';\n",
              "          element.innerHTML = '';\n",
              "          dataTable['output_type'] = 'display_data';\n",
              "          await google.colab.output.renderOutput(dataTable, element);\n",
              "          const docLink = document.createElement('div');\n",
              "          docLink.innerHTML = docLinkHtml;\n",
              "          element.appendChild(docLink);\n",
              "        }\n",
              "      </script>\n",
              "    </div>\n",
              "  </div>\n",
              "  "
            ]
          },
          "metadata": {},
          "execution_count": 2
        }
      ]
    },
    {
      "cell_type": "code",
      "source": [
        "plt.plot(df['Adj Close'])\n",
        "plt.xlabel(\"Time\")\n",
        "plt.ylabel(\"Price of NASDAQ\")\n",
        "plt.title(\"NASDAQ price over time\")\n",
        "plt.savefig(\"initial_plot.png\", dpi=250)\n",
        "plt.show();"
      ],
      "metadata": {
        "colab": {
          "base_uri": "https://localhost:8080/",
          "height": 295
        },
        "id": "ohQ4awD4fIj7",
        "outputId": "e02c2b5a-78b4-4dbc-fa34-52ded9288197"
      },
      "execution_count": null,
      "outputs": [
        {
          "output_type": "display_data",
          "data": {
            "text/plain": [
              "<Figure size 432x288 with 1 Axes>"
            ],
            "image/png": "[encoded data removed]"
          },
          "metadata": {
            "needs_background": "light"
          }
        }
      ]
    },
    {
      "cell_type": "code",
      "source": [
        "close = df[['Adj Close']]\n",
        "print(close.shape)"
      ],
      "metadata": {
        "colab": {
          "base_uri": "https://localhost:8080/"
        },
        "id": "mKPKk6ZRfKHx",
        "outputId": "4822d85b-18ed-45ae-e52c-a3eb6778408c"
      },
      "execution_count": null,
      "outputs": [
        {
          "output_type": "stream",
          "name": "stdout",
          "text": [
            "(1256, 1)\n"
          ]
        }
      ]
    },
    {
      "cell_type": "code",
      "source": [
        "tf.random.set_seed(1234)"
      ],
      "metadata": {
        "id": "GtVOzTApfLeC"
      },
      "execution_count": null,
      "outputs": []
    },
    {
      "cell_type": "code",
      "source": [
        "# Split train data and test data\n",
        "trainval_size = int(len(close)*0.97)\n",
        "\n",
        "trainval_data = close.iloc[:trainval_size]\n",
        "test_data = close.iloc[trainval_size:]\n",
        "\n",
        "#Validation\n",
        "train_size = int(len(trainval_data)*0.9)\n",
        "\n",
        "train_data = trainval_data.iloc[:train_size]\n",
        "val_data = trainval_data.iloc[train_size:]"
      ],
      "metadata": {
        "id": "xT0Z09bqfNT3"
      },
      "execution_count": null,
      "outputs": []
    },
    {
      "cell_type": "code",
      "source": [
        "scaler = MinMaxScaler().fit(train_data)\n",
        "train_scaled = scaler.transform(train_data)\n",
        "test_scaled = scaler.transform(test_data)\n",
        "val_scaled = scaler.transform(val_data)"
      ],
      "metadata": {
        "id": "WEg2F-B5fOIC"
      },
      "execution_count": null,
      "outputs": []
    },
    {
      "cell_type": "code",
      "source": [
        "# Create input dataset\n",
        "def create_dataset (X, look_back = 1):\n",
        "    Xs, ys = [], []\n",
        " \n",
        "    for i in range(len(X)-look_back):\n",
        "        v = X[i:i+look_back]\n",
        "        Xs.append(v)\n",
        "        ys.append(X[i+look_back])\n",
        " \n",
        "    return np.array(Xs), np.array(ys)"
      ],
      "metadata": {
        "id": "wH1Do1G_fR4h"
      },
      "execution_count": null,
      "outputs": []
    },
    {
      "cell_type": "code",
      "source": [
        "LOOK_BACK = 20\n",
        "X_train, y_train = create_dataset(train_scaled,LOOK_BACK)\n",
        "X_test, y_test = create_dataset(test_scaled,LOOK_BACK)\n",
        "X_val, y_val = create_dataset(val_scaled, LOOK_BACK)"
      ],
      "metadata": {
        "id": "s-sssgNhfRye"
      },
      "execution_count": null,
      "outputs": []
    },
    {
      "cell_type": "code",
      "source": [
        "X_train.shape, y_train.shape, X_test.shape, y_test.shape, X_val.shape, y_val.shape"
      ],
      "metadata": {
        "colab": {
          "base_uri": "https://localhost:8080/"
        },
        "id": "T1O097_s0UR9",
        "outputId": "de2f8599-6420-4c60-c72b-cc859dd72c7b"
      },
      "execution_count": null,
      "outputs": [
        {
          "output_type": "execute_result",
          "data": {
            "text/plain": [
              "((1076, 20, 1), (1076, 1), (18, 20, 1), (18, 1), (102, 20, 1), (102, 1))"
            ]
          },
          "metadata": {},
          "execution_count": 10
        }
      ]
    },
    {
      "cell_type": "code",
      "source": [
        "from tensorflow.keras.models import Sequential\n",
        "from tensorflow.keras.layers import *\n",
        "from tensorflow.keras.callbacks import ModelCheckpoint\n",
        "from tensorflow.keras.losses import MeanSquaredError\n",
        "from tensorflow.keras.metrics import RootMeanSquaredError\n",
        "from tensorflow.keras.optimizers import Adam\n",
        "\n",
        "model1 = Sequential()\n",
        "model1.add(InputLayer((20, 1)))\n",
        "model1.add(LSTM(128, return_sequences=True))\n",
        "#model1.add(Dropout(0.2))\n",
        "model1.add(LSTM(64, return_sequences=False))\n",
        "#model1.add(Dropout(0.2))\n",
        "model1.add(Dense(25, 'sigmoid'))\n",
        "model1.add(Dense(1, 'linear'))\n",
        "\n",
        "model1.summary()"
      ],
      "metadata": {
        "colab": {
          "base_uri": "https://localhost:8080/"
        },
        "id": "ttAcKZAOfWpW",
        "outputId": "31a628ad-8cee-4085-e107-7d64366fed95"
      },
      "execution_count": null,
      "outputs": [
        {
          "output_type": "stream",
          "name": "stdout",
          "text": [
            "Model: \"sequential\"\n",
            "_________________________________________________________________\n",
            " Layer (type)                Output Shape              Param #   \n",
            "=================================================================\n",
            " lstm (LSTM)                 (None, 20, 128)           66560     \n",
            "                                                                 \n",
            " lstm_1 (LSTM)               (None, 64)                49408     \n",
            "                                                                 \n",
            " dense (Dense)               (None, 25)                1625      \n",
            "                                                                 \n",
            " dense_1 (Dense)             (None, 1)                 26        \n",
            "                                                                 \n",
            "=================================================================\n",
            "Total params: 117,619\n",
            "Trainable params: 117,619\n",
            "Non-trainable params: 0\n",
            "_________________________________________________________________\n"
          ]
        }
      ]
    },
    {
      "cell_type": "code",
      "source": [
        "cp1 = ModelCheckpoint('model1/', save_best_only=True)\n",
        "callback = tf.keras.callbacks.EarlyStopping(monitor='val_loss', patience=3, mode='min')\n",
        "model1.compile(loss=MeanSquaredError(), optimizer=Adam(learning_rate=0.01), metrics=[RootMeanSquaredError()])"
      ],
      "metadata": {
        "id": "nSIsrXkufZd7"
      },
      "execution_count": null,
      "outputs": []
    },
    {
      "cell_type": "code",
      "source": [
        "history = model1.fit(X_train, y_train, validation_data=(X_val, y_val), epochs=50, batch_size=32, callbacks=[cp1])"
      ],
      "metadata": {
        "colab": {
          "base_uri": "https://localhost:8080/"
        },
        "id": "sqcjOA4LfdgN",
        "outputId": "ce2f62b8-bf74-4856-a540-a8cf8482f094"
      },
      "execution_count": null,
      "outputs": [
        {
          "output_type": "stream",
          "name": "stdout",
          "text": [
            "Epoch 1/50\n",
            "33/34 [============================>.] - ETA: 0s - loss: 0.0344 - root_mean_squared_error: 0.1855"
          ]
        },
        {
          "output_type": "stream",
          "name": "stderr",
          "text": [
            "WARNING:absl:Found untraced functions such as lstm_cell_layer_call_fn, lstm_cell_layer_call_and_return_conditional_losses, lstm_cell_1_layer_call_fn, lstm_cell_1_layer_call_and_return_conditional_losses while saving (showing 4 of 4). These functions will not be directly callable after loading.\n"
          ]
        },
        {
          "output_type": "stream",
          "name": "stdout",
          "text": [
            "INFO:tensorflow:Assets written to: model1/assets\n"
          ]
        },
        {
          "output_type": "stream",
          "name": "stderr",
          "text": [
            "INFO:tensorflow:Assets written to: model1/assets\n",
            "WARNING:absl:<keras.layers.recurrent.LSTMCell object at 0x7f25f0b85790> has the same name 'LSTMCell' as a built-in Keras object. Consider renaming <class 'keras.layers.recurrent.LSTMCell'> to avoid naming conflicts when loading with `tf.keras.models.load_model`. If renaming is not possible, pass the object in the `custom_objects` parameter of the load function.\n",
            "WARNING:absl:<keras.layers.recurrent.LSTMCell object at 0x7f25eccdbf90> has the same name 'LSTMCell' as a built-in Keras object. Consider renaming <class 'keras.layers.recurrent.LSTMCell'> to avoid naming conflicts when loading with `tf.keras.models.load_model`. If renaming is not possible, pass the object in the `custom_objects` parameter of the load function.\n"
          ]
        },
        {
          "output_type": "stream",
          "name": "stdout",
          "text": [
            "\b\b\b\b\b\b\b\b\b\b\b\b\b\b\b\b\b\b\b\b\b\b\b\b\b\b\b\b\b\b\b\b\b\b\b\b\b\b\b\b\b\b\b\b\b\b\b\b\b\b\b\b\b\b\b\b\b\b\b\b\b\b\b\b\b\b\b\b\b\b\b\b\b\b\b\b\b\b\b\b\b\b\b\b\b\b\b\b\b\b\b\b\b\b\b\b\b\r34/34 [==============================] - 16s 349ms/step - loss: 0.0338 - root_mean_squared_error: 0.1839 - val_loss: 0.0420 - val_root_mean_squared_error: 0.2048\n",
            "Epoch 2/50\n",
            "33/34 [============================>.] - ETA: 0s - loss: 0.0028 - root_mean_squared_error: 0.0528"
          ]
        },
        {
          "output_type": "stream",
          "name": "stderr",
          "text": [
            "WARNING:absl:Found untraced functions such as lstm_cell_layer_call_fn, lstm_cell_layer_call_and_return_conditional_losses, lstm_cell_1_layer_call_fn, lstm_cell_1_layer_call_and_return_conditional_losses while saving (showing 4 of 4). These functions will not be directly callable after loading.\n"
          ]
        },
        {
          "output_type": "stream",
          "name": "stdout",
          "text": [
            "INFO:tensorflow:Assets written to: model1/assets\n"
          ]
        },
        {
          "output_type": "stream",
          "name": "stderr",
          "text": [
            "INFO:tensorflow:Assets written to: model1/assets\n",
            "WARNING:absl:<keras.layers.recurrent.LSTMCell object at 0x7f25f0b85790> has the same name 'LSTMCell' as a built-in Keras object. Consider renaming <class 'keras.layers.recurrent.LSTMCell'> to avoid naming conflicts when loading with `tf.keras.models.load_model`. If renaming is not possible, pass the object in the `custom_objects` parameter of the load function.\n",
            "WARNING:absl:<keras.layers.recurrent.LSTMCell object at 0x7f25eccdbf90> has the same name 'LSTMCell' as a built-in Keras object. Consider renaming <class 'keras.layers.recurrent.LSTMCell'> to avoid naming conflicts when loading with `tf.keras.models.load_model`. If renaming is not possible, pass the object in the `custom_objects` parameter of the load function.\n"
          ]
        },
        {
          "output_type": "stream",
          "name": "stdout",
          "text": [
            "\b\b\b\b\b\b\b\b\b\b\b\b\b\b\b\b\b\b\b\b\b\b\b\b\b\b\b\b\b\b\b\b\b\b\b\b\b\b\b\b\b\b\b\b\b\b\b\b\b\b\b\b\b\b\b\b\b\b\b\b\b\b\b\b\b\b\b\b\b\b\b\b\b\b\b\b\b\b\b\b\b\b\b\b\b\b\b\b\b\b\b\b\b\b\b\b\b\r34/34 [==============================] - 10s 312ms/step - loss: 0.0027 - root_mean_squared_error: 0.0524 - val_loss: 0.0017 - val_root_mean_squared_error: 0.0407\n",
            "Epoch 3/50\n",
            "33/34 [============================>.] - ETA: 0s - loss: 0.0012 - root_mean_squared_error: 0.0352"
          ]
        },
        {
          "output_type": "stream",
          "name": "stderr",
          "text": [
            "WARNING:absl:Found untraced functions such as lstm_cell_layer_call_fn, lstm_cell_layer_call_and_return_conditional_losses, lstm_cell_1_layer_call_fn, lstm_cell_1_layer_call_and_return_conditional_losses while saving (showing 4 of 4). These functions will not be directly callable after loading.\n"
          ]
        },
        {
          "output_type": "stream",
          "name": "stdout",
          "text": [
            "INFO:tensorflow:Assets written to: model1/assets\n"
          ]
        },
        {
          "output_type": "stream",
          "name": "stderr",
          "text": [
            "INFO:tensorflow:Assets written to: model1/assets\n",
            "WARNING:absl:<keras.layers.recurrent.LSTMCell object at 0x7f25f0b85790> has the same name 'LSTMCell' as a built-in Keras object. Consider renaming <class 'keras.layers.recurrent.LSTMCell'> to avoid naming conflicts when loading with `tf.keras.models.load_model`. If renaming is not possible, pass the object in the `custom_objects` parameter of the load function.\n",
            "WARNING:absl:<keras.layers.recurrent.LSTMCell object at 0x7f25eccdbf90> has the same name 'LSTMCell' as a built-in Keras object. Consider renaming <class 'keras.layers.recurrent.LSTMCell'> to avoid naming conflicts when loading with `tf.keras.models.load_model`. If renaming is not possible, pass the object in the `custom_objects` parameter of the load function.\n"
          ]
        },
        {
          "output_type": "stream",
          "name": "stdout",
          "text": [
            "\b\b\b\b\b\b\b\b\b\b\b\b\b\b\b\b\b\b\b\b\b\b\b\b\b\b\b\b\b\b\b\b\b\b\b\b\b\b\b\b\b\b\b\b\b\b\b\b\b\b\b\b\b\b\b\b\b\b\b\b\b\b\b\b\b\b\b\b\b\b\b\b\b\b\b\b\b\b\b\b\b\b\b\b\b\b\b\b\b\b\b\b\b\b\b\b\b\r34/34 [==============================] - 10s 316ms/step - loss: 0.0013 - root_mean_squared_error: 0.0358 - val_loss: 0.0014 - val_root_mean_squared_error: 0.0380\n",
            "Epoch 4/50\n",
            "33/34 [============================>.] - ETA: 0s - loss: 0.0012 - root_mean_squared_error: 0.0345"
          ]
        },
        {
          "output_type": "stream",
          "name": "stderr",
          "text": [
            "WARNING:absl:Found untraced functions such as lstm_cell_layer_call_fn, lstm_cell_layer_call_and_return_conditional_losses, lstm_cell_1_layer_call_fn, lstm_cell_1_layer_call_and_return_conditional_losses while saving (showing 4 of 4). These functions will not be directly callable after loading.\n"
          ]
        },
        {
          "output_type": "stream",
          "name": "stdout",
          "text": [
            "INFO:tensorflow:Assets written to: model1/assets\n"
          ]
        },
        {
          "output_type": "stream",
          "name": "stderr",
          "text": [
            "INFO:tensorflow:Assets written to: model1/assets\n",
            "WARNING:absl:<keras.layers.recurrent.LSTMCell object at 0x7f25f0b85790> has the same name 'LSTMCell' as a built-in Keras object. Consider renaming <class 'keras.layers.recurrent.LSTMCell'> to avoid naming conflicts when loading with `tf.keras.models.load_model`. If renaming is not possible, pass the object in the `custom_objects` parameter of the load function.\n",
            "WARNING:absl:<keras.layers.recurrent.LSTMCell object at 0x7f25eccdbf90> has the same name 'LSTMCell' as a built-in Keras object. Consider renaming <class 'keras.layers.recurrent.LSTMCell'> to avoid naming conflicts when loading with `tf.keras.models.load_model`. If renaming is not possible, pass the object in the `custom_objects` parameter of the load function.\n"
          ]
        },
        {
          "output_type": "stream",
          "name": "stdout",
          "text": [
            "\b\b\b\b\b\b\b\b\b\b\b\b\b\b\b\b\b\b\b\b\b\b\b\b\b\b\b\b\b\b\b\b\b\b\b\b\b\b\b\b\b\b\b\b\b\b\b\b\b\b\b\b\b\b\b\b\b\b\b\b\b\b\b\b\b\b\b\b\b\b\b\b\b\b\b\b\b\b\b\b\b\b\b\b\b\b\b\b\b\b\b\b\b\b\b\b\b\r34/34 [==============================] - 10s 316ms/step - loss: 0.0012 - root_mean_squared_error: 0.0346 - val_loss: 0.0012 - val_root_mean_squared_error: 0.0350\n",
            "Epoch 5/50\n",
            "34/34 [==============================] - 1s 35ms/step - loss: 0.0010 - root_mean_squared_error: 0.0320 - val_loss: 0.0014 - val_root_mean_squared_error: 0.0380\n",
            "Epoch 6/50\n",
            "33/34 [============================>.] - ETA: 0s - loss: 8.6605e-04 - root_mean_squared_error: 0.0294"
          ]
        },
        {
          "output_type": "stream",
          "name": "stderr",
          "text": [
            "WARNING:absl:Found untraced functions such as lstm_cell_layer_call_fn, lstm_cell_layer_call_and_return_conditional_losses, lstm_cell_1_layer_call_fn, lstm_cell_1_layer_call_and_return_conditional_losses while saving (showing 4 of 4). These functions will not be directly callable after loading.\n"
          ]
        },
        {
          "output_type": "stream",
          "name": "stdout",
          "text": [
            "INFO:tensorflow:Assets written to: model1/assets\n"
          ]
        },
        {
          "output_type": "stream",
          "name": "stderr",
          "text": [
            "INFO:tensorflow:Assets written to: model1/assets\n",
            "WARNING:absl:<keras.layers.recurrent.LSTMCell object at 0x7f25f0b85790> has the same name 'LSTMCell' as a built-in Keras object. Consider renaming <class 'keras.layers.recurrent.LSTMCell'> to avoid naming conflicts when loading with `tf.keras.models.load_model`. If renaming is not possible, pass the object in the `custom_objects` parameter of the load function.\n",
            "WARNING:absl:<keras.layers.recurrent.LSTMCell object at 0x7f25eccdbf90> has the same name 'LSTMCell' as a built-in Keras object. Consider renaming <class 'keras.layers.recurrent.LSTMCell'> to avoid naming conflicts when loading with `tf.keras.models.load_model`. If renaming is not possible, pass the object in the `custom_objects` parameter of the load function.\n"
          ]
        },
        {
          "output_type": "stream",
          "name": "stdout",
          "text": [
            "\b\b\b\b\b\b\b\b\b\b\b\b\b\b\b\b\b\b\b\b\b\b\b\b\b\b\b\b\b\b\b\b\b\b\b\b\b\b\b\b\b\b\b\b\b\b\b\b\b\b\b\b\b\b\b\b\b\b\b\b\b\b\b\b\b\b\b\b\b\b\b\b\b\b\b\b\b\b\b\b\b\b\b\b\b\b\b\b\b\b\b\b\b\b\b\b\b\b\b\b\b\r34/34 [==============================] - 10s 300ms/step - loss: 8.5578e-04 - root_mean_squared_error: 0.0293 - val_loss: 0.0011 - val_root_mean_squared_error: 0.0337\n",
            "Epoch 7/50\n",
            "34/34 [==============================] - ETA: 0s - loss: 9.6369e-04 - root_mean_squared_error: 0.0310"
          ]
        },
        {
          "output_type": "stream",
          "name": "stderr",
          "text": [
            "WARNING:absl:Found untraced functions such as lstm_cell_layer_call_fn, lstm_cell_layer_call_and_return_conditional_losses, lstm_cell_1_layer_call_fn, lstm_cell_1_layer_call_and_return_conditional_losses while saving (showing 4 of 4). These functions will not be directly callable after loading.\n"
          ]
        },
        {
          "output_type": "stream",
          "name": "stdout",
          "text": [
            "INFO:tensorflow:Assets written to: model1/assets\n"
          ]
        },
        {
          "output_type": "stream",
          "name": "stderr",
          "text": [
            "INFO:tensorflow:Assets written to: model1/assets\n",
            "WARNING:absl:<keras.layers.recurrent.LSTMCell object at 0x7f25f0b85790> has the same name 'LSTMCell' as a built-in Keras object. Consider renaming <class 'keras.layers.recurrent.LSTMCell'> to avoid naming conflicts when loading with `tf.keras.models.load_model`. If renaming is not possible, pass the object in the `custom_objects` parameter of the load function.\n",
            "WARNING:absl:<keras.layers.recurrent.LSTMCell object at 0x7f25eccdbf90> has the same name 'LSTMCell' as a built-in Keras object. Consider renaming <class 'keras.layers.recurrent.LSTMCell'> to avoid naming conflicts when loading with `tf.keras.models.load_model`. If renaming is not possible, pass the object in the `custom_objects` parameter of the load function.\n"
          ]
        },
        {
          "output_type": "stream",
          "name": "stdout",
          "text": [
            "\b\b\b\b\b\b\b\b\b\b\b\b\b\b\b\b\b\b\b\b\b\b\b\b\b\b\b\b\b\b\b\b\b\b\b\b\b\b\b\b\b\b\b\b\b\b\b\b\b\b\b\b\b\b\b\b\b\b\b\b\b\b\b\b\b\b\b\b\b\b\b\b\b\b\b\b\b\b\b\b\b\b\b\b\b\b\b\b\b\b\b\b\b\b\b\b\b\b\b\b\b\r34/34 [==============================] - 11s 332ms/step - loss: 9.6369e-04 - root_mean_squared_error: 0.0310 - val_loss: 0.0011 - val_root_mean_squared_error: 0.0332\n",
            "Epoch 8/50\n",
            "34/34 [==============================] - 1s 35ms/step - loss: 9.4476e-04 - root_mean_squared_error: 0.0307 - val_loss: 0.0012 - val_root_mean_squared_error: 0.0342\n",
            "Epoch 9/50\n",
            "34/34 [==============================] - 1s 34ms/step - loss: 6.2397e-04 - root_mean_squared_error: 0.0250 - val_loss: 0.0012 - val_root_mean_squared_error: 0.0339\n",
            "Epoch 10/50\n",
            "33/34 [============================>.] - ETA: 0s - loss: 8.5529e-04 - root_mean_squared_error: 0.0292"
          ]
        },
        {
          "output_type": "stream",
          "name": "stderr",
          "text": [
            "WARNING:absl:Found untraced functions such as lstm_cell_layer_call_fn, lstm_cell_layer_call_and_return_conditional_losses, lstm_cell_1_layer_call_fn, lstm_cell_1_layer_call_and_return_conditional_losses while saving (showing 4 of 4). These functions will not be directly callable after loading.\n"
          ]
        },
        {
          "output_type": "stream",
          "name": "stdout",
          "text": [
            "INFO:tensorflow:Assets written to: model1/assets\n"
          ]
        },
        {
          "output_type": "stream",
          "name": "stderr",
          "text": [
            "INFO:tensorflow:Assets written to: model1/assets\n",
            "WARNING:absl:<keras.layers.recurrent.LSTMCell object at 0x7f25f0b85790> has the same name 'LSTMCell' as a built-in Keras object. Consider renaming <class 'keras.layers.recurrent.LSTMCell'> to avoid naming conflicts when loading with `tf.keras.models.load_model`. If renaming is not possible, pass the object in the `custom_objects` parameter of the load function.\n",
            "WARNING:absl:<keras.layers.recurrent.LSTMCell object at 0x7f25eccdbf90> has the same name 'LSTMCell' as a built-in Keras object. Consider renaming <class 'keras.layers.recurrent.LSTMCell'> to avoid naming conflicts when loading with `tf.keras.models.load_model`. If renaming is not possible, pass the object in the `custom_objects` parameter of the load function.\n"
          ]
        },
        {
          "output_type": "stream",
          "name": "stdout",
          "text": [
            "\b\b\b\b\b\b\b\b\b\b\b\b\b\b\b\b\b\b\b\b\b\b\b\b\b\b\b\b\b\b\b\b\b\b\b\b\b\b\b\b\b\b\b\b\b\b\b\b\b\b\b\b\b\b\b\b\b\b\b\b\b\b\b\b\b\b\b\b\b\b\b\b\b\b\b\b\b\b\b\b\b\b\b\b\b\b\b\b\b\b\b\b\b\b\b\b\b\b\b\b\b\r34/34 [==============================] - 10s 315ms/step - loss: 8.4808e-04 - root_mean_squared_error: 0.0291 - val_loss: 9.5068e-04 - val_root_mean_squared_error: 0.0308\n",
            "Epoch 11/50\n",
            "33/34 [============================>.] - ETA: 0s - loss: 6.4459e-04 - root_mean_squared_error: 0.0254"
          ]
        },
        {
          "output_type": "stream",
          "name": "stderr",
          "text": [
            "WARNING:absl:Found untraced functions such as lstm_cell_layer_call_fn, lstm_cell_layer_call_and_return_conditional_losses, lstm_cell_1_layer_call_fn, lstm_cell_1_layer_call_and_return_conditional_losses while saving (showing 4 of 4). These functions will not be directly callable after loading.\n"
          ]
        },
        {
          "output_type": "stream",
          "name": "stdout",
          "text": [
            "INFO:tensorflow:Assets written to: model1/assets\n"
          ]
        },
        {
          "output_type": "stream",
          "name": "stderr",
          "text": [
            "INFO:tensorflow:Assets written to: model1/assets\n",
            "WARNING:absl:<keras.layers.recurrent.LSTMCell object at 0x7f25f0b85790> has the same name 'LSTMCell' as a built-in Keras object. Consider renaming <class 'keras.layers.recurrent.LSTMCell'> to avoid naming conflicts when loading with `tf.keras.models.load_model`. If renaming is not possible, pass the object in the `custom_objects` parameter of the load function.\n",
            "WARNING:absl:<keras.layers.recurrent.LSTMCell object at 0x7f25eccdbf90> has the same name 'LSTMCell' as a built-in Keras object. Consider renaming <class 'keras.layers.recurrent.LSTMCell'> to avoid naming conflicts when loading with `tf.keras.models.load_model`. If renaming is not possible, pass the object in the `custom_objects` parameter of the load function.\n"
          ]
        },
        {
          "output_type": "stream",
          "name": "stdout",
          "text": [
            "\b\b\b\b\b\b\b\b\b\b\b\b\b\b\b\b\b\b\b\b\b\b\b\b\b\b\b\b\b\b\b\b\b\b\b\b\b\b\b\b\b\b\b\b\b\b\b\b\b\b\b\b\b\b\b\b\b\b\b\b\b\b\b\b\b\b\b\b\b\b\b\b\b\b\b\b\b\b\b\b\b\b\b\b\b\b\b\b\b\b\b\b\b\b\b\b\b\b\b\b\b\r34/34 [==============================] - 10s 304ms/step - loss: 6.3857e-04 - root_mean_squared_error: 0.0253 - val_loss: 8.8689e-04 - val_root_mean_squared_error: 0.0298\n",
            "Epoch 12/50\n",
            "34/34 [==============================] - 1s 36ms/step - loss: 6.1434e-04 - root_mean_squared_error: 0.0248 - val_loss: 0.0013 - val_root_mean_squared_error: 0.0362\n",
            "Epoch 13/50\n",
            "34/34 [==============================] - 1s 35ms/step - loss: 4.8855e-04 - root_mean_squared_error: 0.0221 - val_loss: 0.0024 - val_root_mean_squared_error: 0.0493\n",
            "Epoch 14/50\n",
            "33/34 [============================>.] - ETA: 0s - loss: 5.2565e-04 - root_mean_squared_error: 0.0229"
          ]
        },
        {
          "output_type": "stream",
          "name": "stderr",
          "text": [
            "WARNING:absl:Found untraced functions such as lstm_cell_layer_call_fn, lstm_cell_layer_call_and_return_conditional_losses, lstm_cell_1_layer_call_fn, lstm_cell_1_layer_call_and_return_conditional_losses while saving (showing 4 of 4). These functions will not be directly callable after loading.\n"
          ]
        },
        {
          "output_type": "stream",
          "name": "stdout",
          "text": [
            "INFO:tensorflow:Assets written to: model1/assets\n"
          ]
        },
        {
          "output_type": "stream",
          "name": "stderr",
          "text": [
            "INFO:tensorflow:Assets written to: model1/assets\n",
            "WARNING:absl:<keras.layers.recurrent.LSTMCell object at 0x7f25f0b85790> has the same name 'LSTMCell' as a built-in Keras object. Consider renaming <class 'keras.layers.recurrent.LSTMCell'> to avoid naming conflicts when loading with `tf.keras.models.load_model`. If renaming is not possible, pass the object in the `custom_objects` parameter of the load function.\n",
            "WARNING:absl:<keras.layers.recurrent.LSTMCell object at 0x7f25eccdbf90> has the same name 'LSTMCell' as a built-in Keras object. Consider renaming <class 'keras.layers.recurrent.LSTMCell'> to avoid naming conflicts when loading with `tf.keras.models.load_model`. If renaming is not possible, pass the object in the `custom_objects` parameter of the load function.\n"
          ]
        },
        {
          "output_type": "stream",
          "name": "stdout",
          "text": [
            "\b\b\b\b\b\b\b\b\b\b\b\b\b\b\b\b\b\b\b\b\b\b\b\b\b\b\b\b\b\b\b\b\b\b\b\b\b\b\b\b\b\b\b\b\b\b\b\b\b\b\b\b\b\b\b\b\b\b\b\b\b\b\b\b\b\b\b\b\b\b\b\b\b\b\b\b\b\b\b\b\b\b\b\b\b\b\b\b\b\b\b\b\b\b\b\b\b\b\b\b\b\r34/34 [==============================] - 12s 362ms/step - loss: 5.2139e-04 - root_mean_squared_error: 0.0228 - val_loss: 7.1634e-04 - val_root_mean_squared_error: 0.0268\n",
            "Epoch 15/50\n",
            "34/34 [==============================] - 1s 35ms/step - loss: 6.3506e-04 - root_mean_squared_error: 0.0252 - val_loss: 7.7651e-04 - val_root_mean_squared_error: 0.0279\n",
            "Epoch 16/50\n",
            "34/34 [==============================] - 1s 35ms/step - loss: 7.5556e-04 - root_mean_squared_error: 0.0275 - val_loss: 7.5833e-04 - val_root_mean_squared_error: 0.0275\n",
            "Epoch 17/50\n",
            "34/34 [==============================] - 1s 35ms/step - loss: 5.0435e-04 - root_mean_squared_error: 0.0225 - val_loss: 9.5787e-04 - val_root_mean_squared_error: 0.0309\n",
            "Epoch 18/50\n",
            "34/34 [==============================] - 1s 36ms/step - loss: 3.8341e-04 - root_mean_squared_error: 0.0196 - val_loss: 7.8889e-04 - val_root_mean_squared_error: 0.0281\n",
            "Epoch 19/50\n",
            "33/34 [============================>.] - ETA: 0s - loss: 4.0467e-04 - root_mean_squared_error: 0.0201"
          ]
        },
        {
          "output_type": "stream",
          "name": "stderr",
          "text": [
            "WARNING:absl:Found untraced functions such as lstm_cell_layer_call_fn, lstm_cell_layer_call_and_return_conditional_losses, lstm_cell_1_layer_call_fn, lstm_cell_1_layer_call_and_return_conditional_losses while saving (showing 4 of 4). These functions will not be directly callable after loading.\n"
          ]
        },
        {
          "output_type": "stream",
          "name": "stdout",
          "text": [
            "INFO:tensorflow:Assets written to: model1/assets\n"
          ]
        },
        {
          "output_type": "stream",
          "name": "stderr",
          "text": [
            "INFO:tensorflow:Assets written to: model1/assets\n",
            "WARNING:absl:<keras.layers.recurrent.LSTMCell object at 0x7f25f0b85790> has the same name 'LSTMCell' as a built-in Keras object. Consider renaming <class 'keras.layers.recurrent.LSTMCell'> to avoid naming conflicts when loading with `tf.keras.models.load_model`. If renaming is not possible, pass the object in the `custom_objects` parameter of the load function.\n",
            "WARNING:absl:<keras.layers.recurrent.LSTMCell object at 0x7f25eccdbf90> has the same name 'LSTMCell' as a built-in Keras object. Consider renaming <class 'keras.layers.recurrent.LSTMCell'> to avoid naming conflicts when loading with `tf.keras.models.load_model`. If renaming is not possible, pass the object in the `custom_objects` parameter of the load function.\n"
          ]
        },
        {
          "output_type": "stream",
          "name": "stdout",
          "text": [
            "\b\b\b\b\b\b\b\b\b\b\b\b\b\b\b\b\b\b\b\b\b\b\b\b\b\b\b\b\b\b\b\b\b\b\b\b\b\b\b\b\b\b\b\b\b\b\b\b\b\b\b\b\b\b\b\b\b\b\b\b\b\b\b\b\b\b\b\b\b\b\b\b\b\b\b\b\b\b\b\b\b\b\b\b\b\b\b\b\b\b\b\b\b\b\b\b\b\b\b\b\b\r34/34 [==============================] - 10s 300ms/step - loss: 4.1411e-04 - root_mean_squared_error: 0.0203 - val_loss: 6.2610e-04 - val_root_mean_squared_error: 0.0250\n",
            "Epoch 20/50\n",
            "33/34 [============================>.] - ETA: 0s - loss: 3.5774e-04 - root_mean_squared_error: 0.0189"
          ]
        },
        {
          "output_type": "stream",
          "name": "stderr",
          "text": [
            "WARNING:absl:Found untraced functions such as lstm_cell_layer_call_fn, lstm_cell_layer_call_and_return_conditional_losses, lstm_cell_1_layer_call_fn, lstm_cell_1_layer_call_and_return_conditional_losses while saving (showing 4 of 4). These functions will not be directly callable after loading.\n"
          ]
        },
        {
          "output_type": "stream",
          "name": "stdout",
          "text": [
            "INFO:tensorflow:Assets written to: model1/assets\n"
          ]
        },
        {
          "output_type": "stream",
          "name": "stderr",
          "text": [
            "INFO:tensorflow:Assets written to: model1/assets\n",
            "WARNING:absl:<keras.layers.recurrent.LSTMCell object at 0x7f25f0b85790> has the same name 'LSTMCell' as a built-in Keras object. Consider renaming <class 'keras.layers.recurrent.LSTMCell'> to avoid naming conflicts when loading with `tf.keras.models.load_model`. If renaming is not possible, pass the object in the `custom_objects` parameter of the load function.\n",
            "WARNING:absl:<keras.layers.recurrent.LSTMCell object at 0x7f25eccdbf90> has the same name 'LSTMCell' as a built-in Keras object. Consider renaming <class 'keras.layers.recurrent.LSTMCell'> to avoid naming conflicts when loading with `tf.keras.models.load_model`. If renaming is not possible, pass the object in the `custom_objects` parameter of the load function.\n"
          ]
        },
        {
          "output_type": "stream",
          "name": "stdout",
          "text": [
            "\b\b\b\b\b\b\b\b\b\b\b\b\b\b\b\b\b\b\b\b\b\b\b\b\b\b\b\b\b\b\b\b\b\b\b\b\b\b\b\b\b\b\b\b\b\b\b\b\b\b\b\b\b\b\b\b\b\b\b\b\b\b\b\b\b\b\b\b\b\b\b\b\b\b\b\b\b\b\b\b\b\b\b\b\b\b\b\b\b\b\b\b\b\b\b\b\b\b\b\b\b\r34/34 [==============================] - 11s 321ms/step - loss: 3.5500e-04 - root_mean_squared_error: 0.0188 - val_loss: 6.0364e-04 - val_root_mean_squared_error: 0.0246\n",
            "Epoch 21/50\n",
            "34/34 [==============================] - 1s 34ms/step - loss: 4.9722e-04 - root_mean_squared_error: 0.0223 - val_loss: 8.3593e-04 - val_root_mean_squared_error: 0.0289\n",
            "Epoch 22/50\n",
            "34/34 [==============================] - 1s 35ms/step - loss: 6.8622e-04 - root_mean_squared_error: 0.0262 - val_loss: 0.0011 - val_root_mean_squared_error: 0.0324\n",
            "Epoch 23/50\n",
            "34/34 [==============================] - 1s 35ms/step - loss: 3.5649e-04 - root_mean_squared_error: 0.0189 - val_loss: 9.7366e-04 - val_root_mean_squared_error: 0.0312\n",
            "Epoch 24/50\n",
            "34/34 [==============================] - 1s 35ms/step - loss: 4.2904e-04 - root_mean_squared_error: 0.0207 - val_loss: 0.0012 - val_root_mean_squared_error: 0.0346\n",
            "Epoch 25/50\n",
            "33/34 [============================>.] - ETA: 0s - loss: 3.7693e-04 - root_mean_squared_error: 0.0194"
          ]
        },
        {
          "output_type": "stream",
          "name": "stderr",
          "text": [
            "WARNING:absl:Found untraced functions such as lstm_cell_layer_call_fn, lstm_cell_layer_call_and_return_conditional_losses, lstm_cell_1_layer_call_fn, lstm_cell_1_layer_call_and_return_conditional_losses while saving (showing 4 of 4). These functions will not be directly callable after loading.\n"
          ]
        },
        {
          "output_type": "stream",
          "name": "stdout",
          "text": [
            "INFO:tensorflow:Assets written to: model1/assets\n"
          ]
        },
        {
          "output_type": "stream",
          "name": "stderr",
          "text": [
            "INFO:tensorflow:Assets written to: model1/assets\n",
            "WARNING:absl:<keras.layers.recurrent.LSTMCell object at 0x7f25f0b85790> has the same name 'LSTMCell' as a built-in Keras object. Consider renaming <class 'keras.layers.recurrent.LSTMCell'> to avoid naming conflicts when loading with `tf.keras.models.load_model`. If renaming is not possible, pass the object in the `custom_objects` parameter of the load function.\n",
            "WARNING:absl:<keras.layers.recurrent.LSTMCell object at 0x7f25eccdbf90> has the same name 'LSTMCell' as a built-in Keras object. Consider renaming <class 'keras.layers.recurrent.LSTMCell'> to avoid naming conflicts when loading with `tf.keras.models.load_model`. If renaming is not possible, pass the object in the `custom_objects` parameter of the load function.\n"
          ]
        },
        {
          "output_type": "stream",
          "name": "stdout",
          "text": [
            "\b\b\b\b\b\b\b\b\b\b\b\b\b\b\b\b\b\b\b\b\b\b\b\b\b\b\b\b\b\b\b\b\b\b\b\b\b\b\b\b\b\b\b\b\b\b\b\b\b\b\b\b\b\b\b\b\b\b\b\b\b\b\b\b\b\b\b\b\b\b\b\b\b\b\b\b\b\b\b\b\b\b\b\b\b\b\b\b\b\b\b\b\b\b\b\b\b\b\b\b\b\r34/34 [==============================] - 10s 309ms/step - loss: 3.7455e-04 - root_mean_squared_error: 0.0194 - val_loss: 5.1935e-04 - val_root_mean_squared_error: 0.0228\n",
            "Epoch 26/50\n",
            "33/34 [============================>.] - ETA: 0s - loss: 3.9610e-04 - root_mean_squared_error: 0.0199"
          ]
        },
        {
          "output_type": "stream",
          "name": "stderr",
          "text": [
            "WARNING:absl:Found untraced functions such as lstm_cell_layer_call_fn, lstm_cell_layer_call_and_return_conditional_losses, lstm_cell_1_layer_call_fn, lstm_cell_1_layer_call_and_return_conditional_losses while saving (showing 4 of 4). These functions will not be directly callable after loading.\n"
          ]
        },
        {
          "output_type": "stream",
          "name": "stdout",
          "text": [
            "INFO:tensorflow:Assets written to: model1/assets\n"
          ]
        },
        {
          "output_type": "stream",
          "name": "stderr",
          "text": [
            "INFO:tensorflow:Assets written to: model1/assets\n",
            "WARNING:absl:<keras.layers.recurrent.LSTMCell object at 0x7f25f0b85790> has the same name 'LSTMCell' as a built-in Keras object. Consider renaming <class 'keras.layers.recurrent.LSTMCell'> to avoid naming conflicts when loading with `tf.keras.models.load_model`. If renaming is not possible, pass the object in the `custom_objects` parameter of the load function.\n",
            "WARNING:absl:<keras.layers.recurrent.LSTMCell object at 0x7f25eccdbf90> has the same name 'LSTMCell' as a built-in Keras object. Consider renaming <class 'keras.layers.recurrent.LSTMCell'> to avoid naming conflicts when loading with `tf.keras.models.load_model`. If renaming is not possible, pass the object in the `custom_objects` parameter of the load function.\n"
          ]
        },
        {
          "output_type": "stream",
          "name": "stdout",
          "text": [
            "\b\b\b\b\b\b\b\b\b\b\b\b\b\b\b\b\b\b\b\b\b\b\b\b\b\b\b\b\b\b\b\b\b\b\b\b\b\b\b\b\b\b\b\b\b\b\b\b\b\b\b\b\b\b\b\b\b\b\b\b\b\b\b\b\b\b\b\b\b\b\b\b\b\b\b\b\b\b\b\b\b\b\b\b\b\b\b\b\b\b\b\b\b\b\b\b\b\b\b\b\b\r34/34 [==============================] - 10s 307ms/step - loss: 4.0083e-04 - root_mean_squared_error: 0.0200 - val_loss: 4.8587e-04 - val_root_mean_squared_error: 0.0220\n",
            "Epoch 27/50\n",
            "33/34 [============================>.] - ETA: 0s - loss: 5.0171e-04 - root_mean_squared_error: 0.0224"
          ]
        },
        {
          "output_type": "stream",
          "name": "stderr",
          "text": [
            "WARNING:absl:Found untraced functions such as lstm_cell_layer_call_fn, lstm_cell_layer_call_and_return_conditional_losses, lstm_cell_1_layer_call_fn, lstm_cell_1_layer_call_and_return_conditional_losses while saving (showing 4 of 4). These functions will not be directly callable after loading.\n"
          ]
        },
        {
          "output_type": "stream",
          "name": "stdout",
          "text": [
            "INFO:tensorflow:Assets written to: model1/assets\n"
          ]
        },
        {
          "output_type": "stream",
          "name": "stderr",
          "text": [
            "INFO:tensorflow:Assets written to: model1/assets\n",
            "WARNING:absl:<keras.layers.recurrent.LSTMCell object at 0x7f25f0b85790> has the same name 'LSTMCell' as a built-in Keras object. Consider renaming <class 'keras.layers.recurrent.LSTMCell'> to avoid naming conflicts when loading with `tf.keras.models.load_model`. If renaming is not possible, pass the object in the `custom_objects` parameter of the load function.\n",
            "WARNING:absl:<keras.layers.recurrent.LSTMCell object at 0x7f25eccdbf90> has the same name 'LSTMCell' as a built-in Keras object. Consider renaming <class 'keras.layers.recurrent.LSTMCell'> to avoid naming conflicts when loading with `tf.keras.models.load_model`. If renaming is not possible, pass the object in the `custom_objects` parameter of the load function.\n"
          ]
        },
        {
          "output_type": "stream",
          "name": "stdout",
          "text": [
            "\b\b\b\b\b\b\b\b\b\b\b\b\b\b\b\b\b\b\b\b\b\b\b\b\b\b\b\b\b\b\b\b\b\b\b\b\b\b\b\b\b\b\b\b\b\b\b\b\b\b\b\b\b\b\b\b\b\b\b\b\b\b\b\b\b\b\b\b\b\b\b\b\b\b\b\b\b\b\b\b\b\b\b\b\b\b\b\b\b\b\b\b\b\b\b\b\b\b\b\b\b\r34/34 [==============================] - 11s 322ms/step - loss: 4.9788e-04 - root_mean_squared_error: 0.0223 - val_loss: 4.7878e-04 - val_root_mean_squared_error: 0.0219\n",
            "Epoch 28/50\n",
            "34/34 [==============================] - 1s 35ms/step - loss: 3.5429e-04 - root_mean_squared_error: 0.0188 - val_loss: 0.0013 - val_root_mean_squared_error: 0.0361\n",
            "Epoch 29/50\n",
            "33/34 [============================>.] - ETA: 0s - loss: 4.0917e-04 - root_mean_squared_error: 0.0202"
          ]
        },
        {
          "output_type": "stream",
          "name": "stderr",
          "text": [
            "WARNING:absl:Found untraced functions such as lstm_cell_layer_call_fn, lstm_cell_layer_call_and_return_conditional_losses, lstm_cell_1_layer_call_fn, lstm_cell_1_layer_call_and_return_conditional_losses while saving (showing 4 of 4). These functions will not be directly callable after loading.\n"
          ]
        },
        {
          "output_type": "stream",
          "name": "stdout",
          "text": [
            "INFO:tensorflow:Assets written to: model1/assets\n"
          ]
        },
        {
          "output_type": "stream",
          "name": "stderr",
          "text": [
            "INFO:tensorflow:Assets written to: model1/assets\n",
            "WARNING:absl:<keras.layers.recurrent.LSTMCell object at 0x7f25f0b85790> has the same name 'LSTMCell' as a built-in Keras object. Consider renaming <class 'keras.layers.recurrent.LSTMCell'> to avoid naming conflicts when loading with `tf.keras.models.load_model`. If renaming is not possible, pass the object in the `custom_objects` parameter of the load function.\n",
            "WARNING:absl:<keras.layers.recurrent.LSTMCell object at 0x7f25eccdbf90> has the same name 'LSTMCell' as a built-in Keras object. Consider renaming <class 'keras.layers.recurrent.LSTMCell'> to avoid naming conflicts when loading with `tf.keras.models.load_model`. If renaming is not possible, pass the object in the `custom_objects` parameter of the load function.\n"
          ]
        },
        {
          "output_type": "stream",
          "name": "stdout",
          "text": [
            "\b\b\b\b\b\b\b\b\b\b\b\b\b\b\b\b\b\b\b\b\b\b\b\b\b\b\b\b\b\b\b\b\b\b\b\b\b\b\b\b\b\b\b\b\b\b\b\b\b\b\b\b\b\b\b\b\b\b\b\b\b\b\b\b\b\b\b\b\b\b\b\b\b\b\b\b\b\b\b\b\b\b\b\b\b\b\b\b\b\b\b\b\b\b\b\b\b\b\b\b\b\r34/34 [==============================] - 11s 318ms/step - loss: 4.2024e-04 - root_mean_squared_error: 0.0205 - val_loss: 4.4719e-04 - val_root_mean_squared_error: 0.0211\n",
            "Epoch 30/50\n",
            "34/34 [==============================] - 1s 36ms/step - loss: 6.4813e-04 - root_mean_squared_error: 0.0255 - val_loss: 4.8191e-04 - val_root_mean_squared_error: 0.0220\n",
            "Epoch 31/50\n",
            "34/34 [==============================] - 1s 35ms/step - loss: 3.8370e-04 - root_mean_squared_error: 0.0196 - val_loss: 6.1016e-04 - val_root_mean_squared_error: 0.0247\n",
            "Epoch 32/50\n",
            "34/34 [==============================] - 1s 36ms/step - loss: 3.5728e-04 - root_mean_squared_error: 0.0189 - val_loss: 5.3557e-04 - val_root_mean_squared_error: 0.0231\n",
            "Epoch 33/50\n",
            "34/34 [==============================] - 1s 35ms/step - loss: 3.6301e-04 - root_mean_squared_error: 0.0191 - val_loss: 5.0626e-04 - val_root_mean_squared_error: 0.0225\n",
            "Epoch 34/50\n",
            "34/34 [==============================] - 1s 35ms/step - loss: 5.2363e-04 - root_mean_squared_error: 0.0229 - val_loss: 5.1795e-04 - val_root_mean_squared_error: 0.0228\n",
            "Epoch 35/50\n",
            "34/34 [==============================] - 1s 35ms/step - loss: 4.3010e-04 - root_mean_squared_error: 0.0207 - val_loss: 0.0014 - val_root_mean_squared_error: 0.0379\n",
            "Epoch 36/50\n",
            "34/34 [==============================] - 1s 36ms/step - loss: 3.1843e-04 - root_mean_squared_error: 0.0178 - val_loss: 5.9836e-04 - val_root_mean_squared_error: 0.0245\n",
            "Epoch 37/50\n",
            "34/34 [==============================] - 1s 35ms/step - loss: 4.0039e-04 - root_mean_squared_error: 0.0200 - val_loss: 0.0011 - val_root_mean_squared_error: 0.0336\n",
            "Epoch 38/50\n",
            "34/34 [==============================] - 1s 34ms/step - loss: 4.0536e-04 - root_mean_squared_error: 0.0201 - val_loss: 7.5147e-04 - val_root_mean_squared_error: 0.0274\n",
            "Epoch 39/50\n",
            "34/34 [==============================] - 1s 34ms/step - loss: 4.8106e-04 - root_mean_squared_error: 0.0219 - val_loss: 7.8757e-04 - val_root_mean_squared_error: 0.0281\n",
            "Epoch 40/50\n",
            "34/34 [==============================] - 1s 35ms/step - loss: 3.2690e-04 - root_mean_squared_error: 0.0181 - val_loss: 4.4725e-04 - val_root_mean_squared_error: 0.0211\n",
            "Epoch 41/50\n",
            "34/34 [==============================] - 1s 35ms/step - loss: 3.7338e-04 - root_mean_squared_error: 0.0193 - val_loss: 4.7260e-04 - val_root_mean_squared_error: 0.0217\n",
            "Epoch 42/50\n",
            "34/34 [==============================] - 1s 36ms/step - loss: 4.1971e-04 - root_mean_squared_error: 0.0205 - val_loss: 0.0031 - val_root_mean_squared_error: 0.0560\n",
            "Epoch 43/50\n",
            "34/34 [==============================] - 1s 35ms/step - loss: 4.6647e-04 - root_mean_squared_error: 0.0216 - val_loss: 9.5286e-04 - val_root_mean_squared_error: 0.0309\n",
            "Epoch 44/50\n",
            "34/34 [==============================] - 1s 35ms/step - loss: 3.7687e-04 - root_mean_squared_error: 0.0194 - val_loss: 0.0023 - val_root_mean_squared_error: 0.0482\n",
            "Epoch 45/50\n",
            "34/34 [==============================] - 1s 35ms/step - loss: 4.1148e-04 - root_mean_squared_error: 0.0203 - val_loss: 0.0023 - val_root_mean_squared_error: 0.0478\n",
            "Epoch 46/50\n",
            "34/34 [==============================] - 1s 35ms/step - loss: 5.2764e-04 - root_mean_squared_error: 0.0230 - val_loss: 8.1570e-04 - val_root_mean_squared_error: 0.0286\n",
            "Epoch 47/50\n",
            "34/34 [==============================] - 1s 34ms/step - loss: 4.4691e-04 - root_mean_squared_error: 0.0211 - val_loss: 5.5173e-04 - val_root_mean_squared_error: 0.0235\n",
            "Epoch 48/50\n",
            "34/34 [==============================] - 1s 35ms/step - loss: 3.2769e-04 - root_mean_squared_error: 0.0181 - val_loss: 9.0144e-04 - val_root_mean_squared_error: 0.0300\n",
            "Epoch 49/50\n",
            "34/34 [==============================] - 1s 34ms/step - loss: 4.3001e-04 - root_mean_squared_error: 0.0207 - val_loss: 0.0011 - val_root_mean_squared_error: 0.0328\n",
            "Epoch 50/50\n",
            "34/34 [==============================] - 1s 35ms/step - loss: 5.0559e-04 - root_mean_squared_error: 0.0225 - val_loss: 7.6944e-04 - val_root_mean_squared_error: 0.0277\n"
          ]
        }
      ]
    },
    {
      "cell_type": "code",
      "source": [
        "from tensorflow.keras.models import load_model\n",
        "model1 = load_model('model1')"
      ],
      "metadata": {
        "id": "NvygIHO1fjKf"
      },
      "execution_count": null,
      "outputs": []
    },
    {
      "cell_type": "code",
      "source": [
        "plt.figure(figsize=(8,4))\n",
        "plt.plot(history.history['loss'], label='Train Loss')\n",
        "plt.plot(history.history['val_loss'], label='Validation Loss')\n",
        "plt.title('model loss')\n",
        "plt.ylabel('loss')\n",
        "plt.xlabel('epochs')\n",
        "plt.legend(loc='upper right')\n",
        "plt.show();"
      ],
      "metadata": {
        "colab": {
          "base_uri": "https://localhost:8080/",
          "height": 295
        },
        "id": "6t0e3MfNfm0W",
        "outputId": "5e65d52e-30ef-4071-cbad-afd7b26ecf3f"
      },
      "execution_count": null,
      "outputs": [
        {
          "output_type": "display_data",
          "data": {
            "text/plain": [
              "<Figure size 576x288 with 1 Axes>"
            ],
            "image/png": "[encoded data removed]"
          },
          "metadata": {
            "needs_background": "light"
          }
        }
      ]
    },
    {
      "cell_type": "code",
      "source": [
        "train_predictions = model1.predict(X_train).flatten()\n",
        "train_results = pd.DataFrame(data={'Train Predictions':train_predictions, 'Actuals':y_train.flatten()})\n",
        "train_results"
      ],
      "metadata": {
        "colab": {
          "base_uri": "https://localhost:8080/",
          "height": 424
        },
        "id": "fY7muHTJfo44",
        "outputId": "f863bbfb-cb34-4a91-b3a6-b9158c487073"
      },
      "execution_count": null,
      "outputs": [
        {
          "output_type": "execute_result",
          "data": {
            "text/plain": [
              "      Train Predictions   Actuals\n",
              "0              0.243965  0.274286\n",
              "1              0.241517  0.270195\n",
              "2              0.234346  0.268501\n",
              "3              0.230503  0.282956\n",
              "4              0.242862  0.290487\n",
              "...                 ...       ...\n",
              "1071           0.932178  0.892280\n",
              "1072           0.902112  0.888109\n",
              "1073           0.900775  0.835626\n",
              "1074           0.857977  0.861783\n",
              "1075           0.880363  0.900994\n",
              "\n",
              "[1076 rows x 2 columns]"
            ],
            "text/html": [
              "\n",
              "  <div id=\"df-74b021c1-34a3-4c07-838a-9a71dd894af6\">\n",
              "    <div class=\"colab-df-container\">\n",
              "      <div>\n",
              "<style scoped>\n",
              "    .dataframe tbody tr th:only-of-type {\n",
              "        vertical-align: middle;\n",
              "    }\n",
              "\n",
              "    .dataframe tbody tr th {\n",
              "        vertical-align: top;\n",
              "    }\n",
              "\n",
              "    .dataframe thead th {\n",
              "        text-align: right;\n",
              "    }\n",
              "</style>\n",
              "<table border=\"1\" class=\"dataframe\">\n",
              "  <thead>\n",
              "    <tr style=\"text-align: right;\">\n",
              "      <th></th>\n",
              "      <th>Train Predictions</th>\n",
              "      <th>Actuals</th>\n",
              "    </tr>\n",
              "  </thead>\n",
              "  <tbody>\n",
              "    <tr>\n",
              "      <th>0</th>\n",
              "      <td>0.243965</td>\n",
              "      <td>0.274286</td>\n",
              "    </tr>\n",
              "    <tr>\n",
              "      <th>1</th>\n",
              "      <td>0.241517</td>\n",
              "      <td>0.270195</td>\n",
              "    </tr>\n",
              "    <tr>\n",
              "      <th>2</th>\n",
              "      <td>0.234346</td>\n",
              "      <td>0.268501</td>\n",
              "    </tr>\n",
              "    <tr>\n",
              "      <th>3</th>\n",
              "      <td>0.230503</td>\n",
              "      <td>0.282956</td>\n",
              "    </tr>\n",
              "    <tr>\n",
              "      <th>4</th>\n",
              "      <td>0.242862</td>\n",
              "      <td>0.290487</td>\n",
              "    </tr>\n",
              "    <tr>\n",
              "      <th>...</th>\n",
              "      <td>...</td>\n",
              "      <td>...</td>\n",
              "    </tr>\n",
              "    <tr>\n",
              "      <th>1071</th>\n",
              "      <td>0.932178</td>\n",
              "      <td>0.892280</td>\n",
              "    </tr>\n",
              "    <tr>\n",
              "      <th>1072</th>\n",
              "      <td>0.902112</td>\n",
              "      <td>0.888109</td>\n",
              "    </tr>\n",
              "    <tr>\n",
              "      <th>1073</th>\n",
              "      <td>0.900775</td>\n",
              "      <td>0.835626</td>\n",
              "    </tr>\n",
              "    <tr>\n",
              "      <th>1074</th>\n",
              "      <td>0.857977</td>\n",
              "      <td>0.861783</td>\n",
              "    </tr>\n",
              "    <tr>\n",
              "      <th>1075</th>\n",
              "      <td>0.880363</td>\n",
              "      <td>0.900994</td>\n",
              "    </tr>\n",
              "  </tbody>\n",
              "</table>\n",
              "<p>1076 rows × 2 columns</p>\n",
              "</div>\n",
              "      <button class=\"colab-df-convert\" onclick=\"convertToInteractive('df-74b021c1-34a3-4c07-838a-9a71dd894af6')\"\n",
              "              title=\"Convert this dataframe to an interactive table.\"\n",
              "              style=\"display:none;\">\n",
              "        \n",
              "  <svg xmlns=\"http://www.w3.org/2000/svg\" height=\"24px\"viewBox=\"0 0 24 24\"\n",
              "       width=\"24px\">\n",
              "    <path d=\"M0 0h24v24H0V0z\" fill=\"none\"/>\n",
              "    <path d=\"M18.56 5.44l.94 2.06.94-2.06 2.06-.94-2.06-.94-.94-2.06-.94 2.06-2.06.94zm-11 1L8.5 8.5l.94-2.06 2.06-.94-2.06-.94L8.5 2.5l-.94 2.06-2.06.94zm10 10l.94 2.06.94-2.06 2.06-.94-2.06-.94-.94-2.06-.94 2.06-2.06.94z\"/><path d=\"M17.41 7.96l-1.37-1.37c-.4-.4-.92-.59-1.43-.59-.52 0-1.04.2-1.43.59L10.3 9.45l-7.72 7.72c-.78.78-.78 2.05 0 2.83L4 21.41c.39.39.9.59 1.41.59.51 0 1.02-.2 1.41-.59l7.78-7.78 2.81-2.81c.8-.78.8-2.07 0-2.86zM5.41 20L4 18.59l7.72-7.72 1.47 1.35L5.41 20z\"/>\n",
              "  </svg>\n",
              "      </button>\n",
              "      \n",
              "  <style>\n",
              "    .colab-df-container {\n",
              "      display:flex;\n",
              "      flex-wrap:wrap;\n",
              "      gap: 12px;\n",
              "    }\n",
              "\n",
              "    .colab-df-convert {\n",
              "      background-color: #E8F0FE;\n",
              "      border: none;\n",
              "      border-radius: 50%;\n",
              "      cursor: pointer;\n",
              "      display: none;\n",
              "      fill: #1967D2;\n",
              "      height: 32px;\n",
              "      padding: 0 0 0 0;\n",
              "      width: 32px;\n",
              "    }\n",
              "\n",
              "    .colab-df-convert:hover {\n",
              "      background-color: #E2EBFA;\n",
              "      box-shadow: 0px 1px 2px rgba(60, 64, 67, 0.3), 0px 1px 3px 1px rgba(60, 64, 67, 0.15);\n",
              "      fill: #174EA6;\n",
              "    }\n",
              "\n",
              "    [theme=dark] .colab-df-convert {\n",
              "      background-color: #3B4455;\n",
              "      fill: #D2E3FC;\n",
              "    }\n",
              "\n",
              "    [theme=dark] .colab-df-convert:hover {\n",
              "      background-color: #434B5C;\n",
              "      box-shadow: 0px 1px 3px 1px rgba(0, 0, 0, 0.15);\n",
              "      filter: drop-shadow(0px 1px 2px rgba(0, 0, 0, 0.3));\n",
              "      fill: #FFFFFF;\n",
              "    }\n",
              "  </style>\n",
              "\n",
              "      <script>\n",
              "        const buttonEl =\n",
              "          document.querySelector('#df-74b021c1-34a3-4c07-838a-9a71dd894af6 button.colab-df-convert');\n",
              "        buttonEl.style.display =\n",
              "          google.colab.kernel.accessAllowed ? 'block' : 'none';\n",
              "\n",
              "        async function convertToInteractive(key) {\n",
              "          const element = document.querySelector('#df-74b021c1-34a3-4c07-838a-9a71dd894af6');\n",
              "          const dataTable =\n",
              "            await google.colab.kernel.invokeFunction('convertToInteractive',\n",
              "                                                     [key], {});\n",
              "          if (!dataTable) return;\n",
              "\n",
              "          const docLinkHtml = 'Like what you see? Visit the ' +\n",
              "            '<a target=\"_blank\" href=https://colab.research.google.com/notebooks/data_table.ipynb>data table notebook</a>'\n",
              "            + ' to learn more about interactive tables.';\n",
              "          element.innerHTML = '';\n",
              "          dataTable['output_type'] = 'display_data';\n",
              "          await google.colab.output.renderOutput(dataTable, element);\n",
              "          const docLink = document.createElement('div');\n",
              "          docLink.innerHTML = docLinkHtml;\n",
              "          element.appendChild(docLink);\n",
              "        }\n",
              "      </script>\n",
              "    </div>\n",
              "  </div>\n",
              "  "
            ]
          },
          "metadata": {},
          "execution_count": 17
        }
      ]
    },
    {
      "cell_type": "code",
      "source": [
        "import matplotlib.pyplot as plt\n",
        "plt.plot(train_results['Train Predictions'][:3000])\n",
        "plt.plot(train_results['Actuals'][:3000])"
      ],
      "metadata": {
        "colab": {
          "base_uri": "https://localhost:8080/",
          "height": 282
        },
        "id": "Rl1zUJOYfpPK",
        "outputId": "4d052b43-91de-49cf-adac-c89f2a360c34"
      },
      "execution_count": null,
      "outputs": [
        {
          "output_type": "execute_result",
          "data": {
            "text/plain": [
              "[<matplotlib.lines.Line2D at 0x7f25ec66f990>]"
            ]
          },
          "metadata": {},
          "execution_count": 18
        },
        {
          "output_type": "display_data",
          "data": {
            "text/plain": [
              "<Figure size 432x288 with 1 Axes>"
            ],
            "image/png": "[encoded data removed]"
          },
          "metadata": {
            "needs_background": "light"
          }
        }
      ]
    },
    {
      "cell_type": "code",
      "source": [
        "test_predictions = model1.predict(X_test).flatten()\n",
        "test_results = pd.DataFrame(data={'Test Predictions':test_predictions, 'Actuals':y_test.flatten()})\n",
        "test_results"
      ],
      "metadata": {
        "colab": {
          "base_uri": "https://localhost:8080/",
          "height": 614
        },
        "id": "Ux1r4J7efrv_",
        "outputId": "37230d23-f17d-4363-905d-c13f05b650b6"
      },
      "execution_count": null,
      "outputs": [
        {
          "output_type": "execute_result",
          "data": {
            "text/plain": [
              "    Test Predictions   Actuals\n",
              "0           0.905937  0.922294\n",
              "1           0.925970  0.935384\n",
              "2           0.937191  0.897766\n",
              "3           0.909828  0.891630\n",
              "4           0.903633  0.868759\n",
              "5           0.882748  0.853529\n",
              "6           0.873405  0.879504\n",
              "7           0.892490  0.848277\n",
              "8           0.869884  0.863960\n",
              "9           0.883061  0.839081\n",
              "10          0.859841  0.885158\n",
              "11          0.895693  0.899000\n",
              "12          0.902931  0.913375\n",
              "13          0.917385  0.927897\n",
              "14          0.925682  0.916977\n",
              "15          0.917449  0.918971\n",
              "16          0.918013  0.918642\n",
              "17          0.916645  0.916100"
            ],
            "text/html": [
              "\n",
              "  <div id=\"df-44fdf6fd-6af1-4eac-9b03-b11607cf536b\">\n",
              "    <div class=\"colab-df-container\">\n",
              "      <div>\n",
              "<style scoped>\n",
              "    .dataframe tbody tr th:only-of-type {\n",
              "        vertical-align: middle;\n",
              "    }\n",
              "\n",
              "    .dataframe tbody tr th {\n",
              "        vertical-align: top;\n",
              "    }\n",
              "\n",
              "    .dataframe thead th {\n",
              "        text-align: right;\n",
              "    }\n",
              "</style>\n",
              "<table border=\"1\" class=\"dataframe\">\n",
              "  <thead>\n",
              "    <tr style=\"text-align: right;\">\n",
              "      <th></th>\n",
              "      <th>Test Predictions</th>\n",
              "      <th>Actuals</th>\n",
              "    </tr>\n",
              "  </thead>\n",
              "  <tbody>\n",
              "    <tr>\n",
              "      <th>0</th>\n",
              "      <td>0.905937</td>\n",
              "      <td>0.922294</td>\n",
              "    </tr>\n",
              "    <tr>\n",
              "      <th>1</th>\n",
              "      <td>0.925970</td>\n",
              "      <td>0.935384</td>\n",
              "    </tr>\n",
              "    <tr>\n",
              "      <th>2</th>\n",
              "      <td>0.937191</td>\n",
              "      <td>0.897766</td>\n",
              "    </tr>\n",
              "    <tr>\n",
              "      <th>3</th>\n",
              "      <td>0.909828</td>\n",
              "      <td>0.891630</td>\n",
              "    </tr>\n",
              "    <tr>\n",
              "      <th>4</th>\n",
              "      <td>0.903633</td>\n",
              "      <td>0.868759</td>\n",
              "    </tr>\n",
              "    <tr>\n",
              "      <th>5</th>\n",
              "      <td>0.882748</td>\n",
              "      <td>0.853529</td>\n",
              "    </tr>\n",
              "    <tr>\n",
              "      <th>6</th>\n",
              "      <td>0.873405</td>\n",
              "      <td>0.879504</td>\n",
              "    </tr>\n",
              "    <tr>\n",
              "      <th>7</th>\n",
              "      <td>0.892490</td>\n",
              "      <td>0.848277</td>\n",
              "    </tr>\n",
              "    <tr>\n",
              "      <th>8</th>\n",
              "      <td>0.869884</td>\n",
              "      <td>0.863960</td>\n",
              "    </tr>\n",
              "    <tr>\n",
              "      <th>9</th>\n",
              "      <td>0.883061</td>\n",
              "      <td>0.839081</td>\n",
              "    </tr>\n",
              "    <tr>\n",
              "      <th>10</th>\n",
              "      <td>0.859841</td>\n",
              "      <td>0.885158</td>\n",
              "    </tr>\n",
              "    <tr>\n",
              "      <th>11</th>\n",
              "      <td>0.895693</td>\n",
              "      <td>0.899000</td>\n",
              "    </tr>\n",
              "    <tr>\n",
              "      <th>12</th>\n",
              "      <td>0.902931</td>\n",
              "      <td>0.913375</td>\n",
              "    </tr>\n",
              "    <tr>\n",
              "      <th>13</th>\n",
              "      <td>0.917385</td>\n",
              "      <td>0.927897</td>\n",
              "    </tr>\n",
              "    <tr>\n",
              "      <th>14</th>\n",
              "      <td>0.925682</td>\n",
              "      <td>0.916977</td>\n",
              "    </tr>\n",
              "    <tr>\n",
              "      <th>15</th>\n",
              "      <td>0.917449</td>\n",
              "      <td>0.918971</td>\n",
              "    </tr>\n",
              "    <tr>\n",
              "      <th>16</th>\n",
              "      <td>0.918013</td>\n",
              "      <td>0.918642</td>\n",
              "    </tr>\n",
              "    <tr>\n",
              "      <th>17</th>\n",
              "      <td>0.916645</td>\n",
              "      <td>0.916100</td>\n",
              "    </tr>\n",
              "  </tbody>\n",
              "</table>\n",
              "</div>\n",
              "      <button class=\"colab-df-convert\" onclick=\"convertToInteractive('df-44fdf6fd-6af1-4eac-9b03-b11607cf536b')\"\n",
              "              title=\"Convert this dataframe to an interactive table.\"\n",
              "              style=\"display:none;\">\n",
              "        \n",
              "  <svg xmlns=\"http://www.w3.org/2000/svg\" height=\"24px\"viewBox=\"0 0 24 24\"\n",
              "       width=\"24px\">\n",
              "    <path d=\"M0 0h24v24H0V0z\" fill=\"none\"/>\n",
              "    <path d=\"M18.56 5.44l.94 2.06.94-2.06 2.06-.94-2.06-.94-.94-2.06-.94 2.06-2.06.94zm-11 1L8.5 8.5l.94-2.06 2.06-.94-2.06-.94L8.5 2.5l-.94 2.06-2.06.94zm10 10l.94 2.06.94-2.06 2.06-.94-2.06-.94-.94-2.06-.94 2.06-2.06.94z\"/><path d=\"M17.41 7.96l-1.37-1.37c-.4-.4-.92-.59-1.43-.59-.52 0-1.04.2-1.43.59L10.3 9.45l-7.72 7.72c-.78.78-.78 2.05 0 2.83L4 21.41c.39.39.9.59 1.41.59.51 0 1.02-.2 1.41-.59l7.78-7.78 2.81-2.81c.8-.78.8-2.07 0-2.86zM5.41 20L4 18.59l7.72-7.72 1.47 1.35L5.41 20z\"/>\n",
              "  </svg>\n",
              "      </button>\n",
              "      \n",
              "  <style>\n",
              "    .colab-df-container {\n",
              "      display:flex;\n",
              "      flex-wrap:wrap;\n",
              "      gap: 12px;\n",
              "    }\n",
              "\n",
              "    .colab-df-convert {\n",
              "      background-color: #E8F0FE;\n",
              "      border: none;\n",
              "      border-radius: 50%;\n",
              "      cursor: pointer;\n",
              "      display: none;\n",
              "      fill: #1967D2;\n",
              "      height: 32px;\n",
              "      padding: 0 0 0 0;\n",
              "      width: 32px;\n",
              "    }\n",
              "\n",
              "    .colab-df-convert:hover {\n",
              "      background-color: #E2EBFA;\n",
              "      box-shadow: 0px 1px 2px rgba(60, 64, 67, 0.3), 0px 1px 3px 1px rgba(60, 64, 67, 0.15);\n",
              "      fill: #174EA6;\n",
              "    }\n",
              "\n",
              "    [theme=dark] .colab-df-convert {\n",
              "      background-color: #3B4455;\n",
              "      fill: #D2E3FC;\n",
              "    }\n",
              "\n",
              "    [theme=dark] .colab-df-convert:hover {\n",
              "      background-color: #434B5C;\n",
              "      box-shadow: 0px 1px 3px 1px rgba(0, 0, 0, 0.15);\n",
              "      filter: drop-shadow(0px 1px 2px rgba(0, 0, 0, 0.3));\n",
              "      fill: #FFFFFF;\n",
              "    }\n",
              "  </style>\n",
              "\n",
              "      <script>\n",
              "        const buttonEl =\n",
              "          document.querySelector('#df-44fdf6fd-6af1-4eac-9b03-b11607cf536b button.colab-df-convert');\n",
              "        buttonEl.style.display =\n",
              "          google.colab.kernel.accessAllowed ? 'block' : 'none';\n",
              "\n",
              "        async function convertToInteractive(key) {\n",
              "          const element = document.querySelector('#df-44fdf6fd-6af1-4eac-9b03-b11607cf536b');\n",
              "          const dataTable =\n",
              "            await google.colab.kernel.invokeFunction('convertToInteractive',\n",
              "                                                     [key], {});\n",
              "          if (!dataTable) return;\n",
              "\n",
              "          const docLinkHtml = 'Like what you see? Visit the ' +\n",
              "            '<a target=\"_blank\" href=https://colab.research.google.com/notebooks/data_table.ipynb>data table notebook</a>'\n",
              "            + ' to learn more about interactive tables.';\n",
              "          element.innerHTML = '';\n",
              "          dataTable['output_type'] = 'display_data';\n",
              "          await google.colab.output.renderOutput(dataTable, element);\n",
              "          const docLink = document.createElement('div');\n",
              "          docLink.innerHTML = docLinkHtml;\n",
              "          element.appendChild(docLink);\n",
              "        }\n",
              "      </script>\n",
              "    </div>\n",
              "  </div>\n",
              "  "
            ]
          },
          "metadata": {},
          "execution_count": 19
        }
      ]
    },
    {
      "cell_type": "code",
      "source": [
        "inv_scaled = scaler.inverse_transform(test_results)"
      ],
      "metadata": {
        "id": "u40XuyhJfs7v"
      },
      "execution_count": null,
      "outputs": []
    },
    {
      "cell_type": "code",
      "source": [
        "inv_scaled = pd.DataFrame(inv_scaled)\n",
        "inv_scaled"
      ],
      "metadata": {
        "colab": {
          "base_uri": "https://localhost:8080/",
          "height": 614
        },
        "id": "HCV-7c1ffu31",
        "outputId": "a78e42c8-b1bd-4939-a657-6cbb58c5b95c"
      },
      "execution_count": null,
      "outputs": [
        {
          "output_type": "execute_result",
          "data": {
            "text/plain": [
              "              0            1\n",
              "0   2231.397169  2253.790039\n",
              "1   2258.822385  2271.709961\n",
              "2   2274.183136  2220.209961\n",
              "3   2236.723159  2211.810059\n",
              "4   2228.242864  2180.500000\n",
              "5   2199.650941  2159.649902\n",
              "6   2186.859427  2195.209961\n",
              "7   2212.988192  2152.459961\n",
              "8   2182.039353  2173.929932\n",
              "9   2200.079011  2139.870117\n",
              "10  2168.290352  2202.949951\n",
              "11  2217.372362  2221.899902\n",
              "12  2227.281461  2241.580078\n",
              "13  2247.069630  2261.459961\n",
              "14  2258.427933  2246.510010\n",
              "15  2247.157268  2249.239990\n",
              "16  2247.928708  2248.790039\n",
              "17  2246.056656  2245.310059"
            ],
            "text/html": [
              "\n",
              "  <div id=\"df-0d6a9879-e1d2-40ad-9f02-89c6f4b5a1f3\">\n",
              "    <div class=\"colab-df-container\">\n",
              "      <div>\n",
              "<style scoped>\n",
              "    .dataframe tbody tr th:only-of-type {\n",
              "        vertical-align: middle;\n",
              "    }\n",
              "\n",
              "    .dataframe tbody tr th {\n",
              "        vertical-align: top;\n",
              "    }\n",
              "\n",
              "    .dataframe thead th {\n",
              "        text-align: right;\n",
              "    }\n",
              "</style>\n",
              "<table border=\"1\" class=\"dataframe\">\n",
              "  <thead>\n",
              "    <tr style=\"text-align: right;\">\n",
              "      <th></th>\n",
              "      <th>0</th>\n",
              "      <th>1</th>\n",
              "    </tr>\n",
              "  </thead>\n",
              "  <tbody>\n",
              "    <tr>\n",
              "      <th>0</th>\n",
              "      <td>2231.397169</td>\n",
              "      <td>2253.790039</td>\n",
              "    </tr>\n",
              "    <tr>\n",
              "      <th>1</th>\n",
              "      <td>2258.822385</td>\n",
              "      <td>2271.709961</td>\n",
              "    </tr>\n",
              "    <tr>\n",
              "      <th>2</th>\n",
              "      <td>2274.183136</td>\n",
              "      <td>2220.209961</td>\n",
              "    </tr>\n",
              "    <tr>\n",
              "      <th>3</th>\n",
              "      <td>2236.723159</td>\n",
              "      <td>2211.810059</td>\n",
              "    </tr>\n",
              "    <tr>\n",
              "      <th>4</th>\n",
              "      <td>2228.242864</td>\n",
              "      <td>2180.500000</td>\n",
              "    </tr>\n",
              "    <tr>\n",
              "      <th>5</th>\n",
              "      <td>2199.650941</td>\n",
              "      <td>2159.649902</td>\n",
              "    </tr>\n",
              "    <tr>\n",
              "      <th>6</th>\n",
              "      <td>2186.859427</td>\n",
              "      <td>2195.209961</td>\n",
              "    </tr>\n",
              "    <tr>\n",
              "      <th>7</th>\n",
              "      <td>2212.988192</td>\n",
              "      <td>2152.459961</td>\n",
              "    </tr>\n",
              "    <tr>\n",
              "      <th>8</th>\n",
              "      <td>2182.039353</td>\n",
              "      <td>2173.929932</td>\n",
              "    </tr>\n",
              "    <tr>\n",
              "      <th>9</th>\n",
              "      <td>2200.079011</td>\n",
              "      <td>2139.870117</td>\n",
              "    </tr>\n",
              "    <tr>\n",
              "      <th>10</th>\n",
              "      <td>2168.290352</td>\n",
              "      <td>2202.949951</td>\n",
              "    </tr>\n",
              "    <tr>\n",
              "      <th>11</th>\n",
              "      <td>2217.372362</td>\n",
              "      <td>2221.899902</td>\n",
              "    </tr>\n",
              "    <tr>\n",
              "      <th>12</th>\n",
              "      <td>2227.281461</td>\n",
              "      <td>2241.580078</td>\n",
              "    </tr>\n",
              "    <tr>\n",
              "      <th>13</th>\n",
              "      <td>2247.069630</td>\n",
              "      <td>2261.459961</td>\n",
              "    </tr>\n",
              "    <tr>\n",
              "      <th>14</th>\n",
              "      <td>2258.427933</td>\n",
              "      <td>2246.510010</td>\n",
              "    </tr>\n",
              "    <tr>\n",
              "      <th>15</th>\n",
              "      <td>2247.157268</td>\n",
              "      <td>2249.239990</td>\n",
              "    </tr>\n",
              "    <tr>\n",
              "      <th>16</th>\n",
              "      <td>2247.928708</td>\n",
              "      <td>2248.790039</td>\n",
              "    </tr>\n",
              "    <tr>\n",
              "      <th>17</th>\n",
              "      <td>2246.056656</td>\n",
              "      <td>2245.310059</td>\n",
              "    </tr>\n",
              "  </tbody>\n",
              "</table>\n",
              "</div>\n",
              "      <button class=\"colab-df-convert\" onclick=\"convertToInteractive('df-0d6a9879-e1d2-40ad-9f02-89c6f4b5a1f3')\"\n",
              "              title=\"Convert this dataframe to an interactive table.\"\n",
              "              style=\"display:none;\">\n",
              "        \n",
              "  <svg xmlns=\"http://www.w3.org/2000/svg\" height=\"24px\"viewBox=\"0 0 24 24\"\n",
              "       width=\"24px\">\n",
              "    <path d=\"M0 0h24v24H0V0z\" fill=\"none\"/>\n",
              "    <path d=\"M18.56 5.44l.94 2.06.94-2.06 2.06-.94-2.06-.94-.94-2.06-.94 2.06-2.06.94zm-11 1L8.5 8.5l.94-2.06 2.06-.94-2.06-.94L8.5 2.5l-.94 2.06-2.06.94zm10 10l.94 2.06.94-2.06 2.06-.94-2.06-.94-.94-2.06-.94 2.06-2.06.94z\"/><path d=\"M17.41 7.96l-1.37-1.37c-.4-.4-.92-.59-1.43-.59-.52 0-1.04.2-1.43.59L10.3 9.45l-7.72 7.72c-.78.78-.78 2.05 0 2.83L4 21.41c.39.39.9.59 1.41.59.51 0 1.02-.2 1.41-.59l7.78-7.78 2.81-2.81c.8-.78.8-2.07 0-2.86zM5.41 20L4 18.59l7.72-7.72 1.47 1.35L5.41 20z\"/>\n",
              "  </svg>\n",
              "      </button>\n",
              "      \n",
              "  <style>\n",
              "    .colab-df-container {\n",
              "      display:flex;\n",
              "      flex-wrap:wrap;\n",
              "      gap: 12px;\n",
              "    }\n",
              "\n",
              "    .colab-df-convert {\n",
              "      background-color: #E8F0FE;\n",
              "      border: none;\n",
              "      border-radius: 50%;\n",
              "      cursor: pointer;\n",
              "      display: none;\n",
              "      fill: #1967D2;\n",
              "      height: 32px;\n",
              "      padding: 0 0 0 0;\n",
              "      width: 32px;\n",
              "    }\n",
              "\n",
              "    .colab-df-convert:hover {\n",
              "      background-color: #E2EBFA;\n",
              "      box-shadow: 0px 1px 2px rgba(60, 64, 67, 0.3), 0px 1px 3px 1px rgba(60, 64, 67, 0.15);\n",
              "      fill: #174EA6;\n",
              "    }\n",
              "\n",
              "    [theme=dark] .colab-df-convert {\n",
              "      background-color: #3B4455;\n",
              "      fill: #D2E3FC;\n",
              "    }\n",
              "\n",
              "    [theme=dark] .colab-df-convert:hover {\n",
              "      background-color: #434B5C;\n",
              "      box-shadow: 0px 1px 3px 1px rgba(0, 0, 0, 0.15);\n",
              "      filter: drop-shadow(0px 1px 2px rgba(0, 0, 0, 0.3));\n",
              "      fill: #FFFFFF;\n",
              "    }\n",
              "  </style>\n",
              "\n",
              "      <script>\n",
              "        const buttonEl =\n",
              "          document.querySelector('#df-0d6a9879-e1d2-40ad-9f02-89c6f4b5a1f3 button.colab-df-convert');\n",
              "        buttonEl.style.display =\n",
              "          google.colab.kernel.accessAllowed ? 'block' : 'none';\n",
              "\n",
              "        async function convertToInteractive(key) {\n",
              "          const element = document.querySelector('#df-0d6a9879-e1d2-40ad-9f02-89c6f4b5a1f3');\n",
              "          const dataTable =\n",
              "            await google.colab.kernel.invokeFunction('convertToInteractive',\n",
              "                                                     [key], {});\n",
              "          if (!dataTable) return;\n",
              "\n",
              "          const docLinkHtml = 'Like what you see? Visit the ' +\n",
              "            '<a target=\"_blank\" href=https://colab.research.google.com/notebooks/data_table.ipynb>data table notebook</a>'\n",
              "            + ' to learn more about interactive tables.';\n",
              "          element.innerHTML = '';\n",
              "          dataTable['output_type'] = 'display_data';\n",
              "          await google.colab.output.renderOutput(dataTable, element);\n",
              "          const docLink = document.createElement('div');\n",
              "          docLink.innerHTML = docLinkHtml;\n",
              "          element.appendChild(docLink);\n",
              "        }\n",
              "      </script>\n",
              "    </div>\n",
              "  </div>\n",
              "  "
            ]
          },
          "metadata": {},
          "execution_count": 21
        }
      ]
    },
    {
      "cell_type": "code",
      "source": [
        "import matplotlib.pyplot as plt\n",
        "plt.plot(inv_scaled[0], label='Forecast')\n",
        "plt.plot(inv_scaled[1], label='Actual')\n",
        "plt.legend(loc='lower left')"
      ],
      "metadata": {
        "colab": {
          "base_uri": "https://localhost:8080/",
          "height": 285
        },
        "id": "tcH7bhlAfwaV",
        "outputId": "219c6aae-6fe1-4bca-f008-db3997e0432a"
      },
      "execution_count": null,
      "outputs": [
        {
          "output_type": "execute_result",
          "data": {
            "text/plain": [
              "<matplotlib.legend.Legend at 0x7f25ec605e50>"
            ]
          },
          "metadata": {},
          "execution_count": 22
        },
        {
          "output_type": "display_data",
          "data": {
            "text/plain": [
              "<Figure size 432x288 with 1 Axes>"
            ],
            "image/png": "[encoded data removed]"
          },
          "metadata": {
            "needs_background": "light"
          }
        }
      ]
    },
    {
      "cell_type": "code",
      "source": [
        "from sklearn.metrics import mean_squared_error as mse\n",
        "from math import sqrt\n",
        "# calculate RMSE\n",
        "rmse = sqrt(mse(inv_scaled[1], inv_scaled[0]))\n",
        "mape = np.mean(np.abs(inv_scaled[1] - inv_scaled[0])/np.abs(inv_scaled[1]))\n",
        "mae = np.mean(np.abs(inv_scaled[0] - inv_scaled[1])) \n",
        "print('Test RMSE: %.3f' % rmse)\n",
        "print('Test MAPE: %.3f' % mape)\n",
        "print('Test MAE: %.3f' % mae)"
      ],
      "metadata": {
        "colab": {
          "base_uri": "https://localhost:8080/"
        },
        "id": "LmFFF0SSfyp_",
        "outputId": "32df2efe-7de4-4cc8-9437-99010f2d7176"
      },
      "execution_count": null,
      "outputs": [
        {
          "output_type": "stream",
          "name": "stdout",
          "text": [
            "Test RMSE: 30.989\n",
            "Test MAPE: 0.011\n",
            "Test MAE: 23.477\n"
          ]
        }
      ]
    }
  ]
}